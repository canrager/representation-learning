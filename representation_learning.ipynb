{
  "cells": [
    {
      "cell_type": "markdown",
      "metadata": {},
      "source": [
        "# Learning Quantum State Representations\n",
        "\n",
        "Goal: Neural networks reconstruct a quantum state from measurements using a supervised an an unsupervised approach.\n",
        "\n",
        "This notebook showcases dataset generation, model training and evaluation. Hyperparameter tuning and the examination of the latent representation learned by the autoencoder are not shown."
      ]
    },
    {
      "cell_type": "code",
      "execution_count": 1,
      "metadata": {
        "id": "_Lsw8G9Vl99y"
      },
      "outputs": [],
      "source": [
        "# General Imports\n",
        "import numpy as np\n",
        "import csv\n",
        "import time\n",
        "import os\n",
        "from datetime import datetime as dtime\n",
        "import re\n",
        "from scipy.stats import unitary_group\n",
        "from tqdm import trange, tqdm\n",
        "\n",
        "# Plotting\n",
        "import matplotlib.pyplot as plt\n",
        "from matplotlib import cm\n",
        "from matplotlib.colors import Normalize\n",
        "# TeX Label Config\n",
        "import matplotlib as mpl\n",
        "mpl.rcParams.update({\n",
        "    'text.usetex': False,\n",
        "    'font.family': 'serif',\n",
        "    'font.serif': 'cmr10',\n",
        "    'mathtext.fontset': 'cm',\n",
        "    'font.family': 'STIXGeneral',\n",
        "    'font.size': 14,\n",
        "    'axes.unicode_minus': True,\n",
        "    'figure.autolayout': True,\n",
        "    'legend.fontsize': 'large'\n",
        "    })\n",
        "\n",
        "# Pytorch\n",
        "import torch\n",
        "import torch.nn as nn\n",
        "import torch.optim as optim\n",
        "from torch.utils.data import Dataset, DataLoader\n",
        "\n",
        "# IPython config\n",
        "from IPython.core.interactiveshell import InteractiveShell\n",
        "InteractiveShell.ast_node_interactivity = \"all\""
      ]
    },
    {
      "cell_type": "markdown",
      "metadata": {},
      "source": [
        "## Global definitions"
      ]
    },
    {
      "cell_type": "code",
      "execution_count": 2,
      "metadata": {},
      "outputs": [],
      "source": [
        "# Number of qubits in considered system\n",
        "# Dimension of Hilbert space is 2 ** NQ\n",
        "# Total independent parameters in state density matrix is 4**NQ -1\n",
        "\n",
        "NQ = 1\n",
        "state_gen_method = 'random_uniform_vector'\n",
        "\n",
        "assert state_gen_method in ['unitary_column', 'random_uniform_vector']"
      ]
    },
    {
      "cell_type": "code",
      "execution_count": 3,
      "metadata": {},
      "outputs": [],
      "source": [
        "# State Visualization\n",
        "\n",
        "def plot_dm(astate, title='', save_path=False, fixed_scale=False):\n",
        "\n",
        "    # Make square matrix\n",
        "    if len(astate.shape) == 1:\n",
        "        dim = int(np.sqrt(len(astate)))\n",
        "        astate = astate.reshape(dim, dim)\n",
        "    else:\n",
        "        dim = len(astate)\n",
        "\n",
        "    # Init arrays\n",
        "    dz = astate.ravel()\n",
        "    xpos, ypos = np.meshgrid(np.arange(dim), np.arange(dim))\n",
        "    xpos = xpos.ravel()\n",
        "    ypos = ypos.ravel()\n",
        "\n",
        "    fig = plt.figure(dpi=80)\n",
        "\n",
        "    # Optionally setting scale\n",
        "    if fixed_scale:\n",
        "        vmin, vmax = fixed_scale\n",
        "    else:\n",
        "        vmin=min(dz)\n",
        "        vmax=max(dz)\n",
        "\n",
        "    # Init colorbar\n",
        "    cmap = cm.get_cmap('plasma')\n",
        "    norm = Normalize(vmin=vmin, vmax=vmax)\n",
        "    colors = cmap(norm(dz))\n",
        "\n",
        "    # 2D color plot\n",
        "    ax = fig.add_subplot(5,7,(12,28))\n",
        "    ax.imshow(astate, vmin=vmin, vmax=vmax, cmap=cmap)\n",
        "    a=ax.set_xticks(xpos)\n",
        "    a=ax.set_yticks(ypos)\n",
        "    a=sc = cm.ScalarMappable(cmap=cmap,norm=norm)\n",
        "    a=sc.set_array([])\n",
        "    a=plt.colorbar(sc)\n",
        "\n",
        "\n",
        "    # Classical 3D density matrix plot\n",
        "    ax = fig.add_subplot(5,7,(1,32), projection='3d')\n",
        "    a=ax.bar3d(x=xpos-.25, y=ypos-.25, z=0, dx=0.5, dy=0.5, dz=dz, color=colors)\n",
        "    a=ax.set_xticks(xpos)\n",
        "    a=ax.set_yticks(ypos)\n",
        "    a=ax.set_zticks([])\n",
        "    a=ax.set_zlim(-max(dz), max(dz))\n",
        "    a=ax.grid(False)\n",
        "    #Plot grid on z=0\n",
        "    for i in range(dim):\n",
        "        a=ax.plot(i*np.ones(dim), np.arange(dim), 0, color='k', lw=.5)\n",
        "        a=ax.plot(np.arange(dim), i*np.ones(dim), 0, color='k', lw=.5)\n",
        "\n",
        "    if title != '':\n",
        "        fig.suptitle(title)\n",
        "\n",
        "    if save_path: plt.savefig(save_path, dpi=120)\n",
        "\n",
        "    plt.show()"
      ]
    },
    {
      "cell_type": "markdown",
      "metadata": {
        "id": "3ODhBh7wl990"
      },
      "source": [
        "# State Generator"
      ]
    },
    {
      "cell_type": "markdown",
      "metadata": {},
      "source": [
        "## Pure states"
      ]
    },
    {
      "cell_type": "code",
      "execution_count": 4,
      "metadata": {
        "colab": {
          "base_uri": "https://localhost:8080/"
        },
        "id": "4e1BlxPbl992",
        "outputId": "c20b87c0-af5b-4993-8c1f-440d5334f9f5"
      },
      "outputs": [],
      "source": [
        "if state_gen_method == 'unitary_column':\n",
        "    def create_pure_rho(nqubits):\n",
        "        # Generate a pure quantum state from sampling a random unitary matrix and\n",
        "        # taking the first column vector \n",
        "        dim = 2**nqubits\n",
        "        psi = unitary_group.rvs(dim)[0]\n",
        "        rho = np.outer(psi, psi.T.conjugate())\n",
        "        \n",
        "        # Check Positive semi-definiteness condition\n",
        "        if not np.all(np.linalg.eigvals(rho) >= -1e-10):\n",
        "            return create_pure_rho(nqubits)\n",
        "\n",
        "        # Normalize density matrix\n",
        "        rho /= np.trace(rho)\n",
        "\n",
        "        return rho\n",
        "\n",
        "if state_gen_method == 'random_uniform_vector':\n",
        "    def create_pure_rho(nqubits):\n",
        "        # Generate a pure quantum state from random numbers sampled from uniform distribution [-1,1]\n",
        "        dim = 2**nqubits\n",
        "        psi =   np.random.uniform(low=-1, high=1, size=dim) +\\\n",
        "                1j * np.random.uniform(low=-1, high=1, size=dim) \n",
        "        rho = np.outer(psi, psi.T.conjugate())\n",
        "\n",
        "        # Check Positive semi-definiteness condition\n",
        "        if not np.all(np.linalg.eigvals(rho) >= -1e-10):\n",
        "            return create_pure_rho(nqubits)\n",
        "\n",
        "        # Normalize density matrix\n",
        "        rho /= np.trace(rho)\n",
        "        \n",
        "        return rho"
      ]
    },
    {
      "cell_type": "code",
      "execution_count": 5,
      "metadata": {},
      "outputs": [
        {
          "name": "stdout",
          "output_type": "stream",
          "text": [
            "Traces of 100 test 1qubit states squared = 1?\n"
          ]
        },
        {
          "data": {
            "text/plain": [
              "True"
            ]
          },
          "execution_count": 5,
          "metadata": {},
          "output_type": "execute_result"
        }
      ],
      "source": [
        "# Test Purity condition Tr(rho**2) == 1\n",
        "print('Traces of 100 test 1qubit states squared = 1?')\n",
        "traces = np.array([create_pure_rho(nqubits=NQ) for _ in range(100)])\n",
        "traces = np.array([np.trace(np.real(rho.dot(rho))) for rho in traces])\n",
        "np.all( (traces-1) < 1e-10 )"
      ]
    },
    {
      "cell_type": "markdown",
      "metadata": {
        "id": "iH4wSknpl991"
      },
      "source": [
        "## Mixed States"
      ]
    },
    {
      "cell_type": "code",
      "execution_count": 6,
      "metadata": {
        "colab": {
          "base_uri": "https://localhost:8080/"
        },
        "id": "VnhSx1sIl993",
        "outputId": "afa03dcc-597a-4192-bd5e-f7d4c7d1d60b"
      },
      "outputs": [],
      "source": [
        "def partial_trace(rho):\n",
        "    # Generate a mixed state in Hilbert space H by tracing over one subsystem of a state in H \\tensor H\n",
        "    dim = 2**NQ\n",
        "    reduced = np.zeros((dim,dim), dtype=np.complex128)\n",
        "    for bvec in np.eye(dim):\n",
        "        bra = np.kron(np.eye(dim), bvec)\n",
        "        reduced += bra.dot(rho.dot(bra.T))\n",
        "    return reduced"
      ]
    },
    {
      "cell_type": "code",
      "execution_count": 7,
      "metadata": {},
      "outputs": [],
      "source": [
        "# Wrapper function for generating pure and mixed states\n",
        "def random_rho(pure):\n",
        "    if pure:\n",
        "        return create_pure_rho(nqubits=NQ)\n",
        "    else:\n",
        "        return partial_trace(create_pure_rho(nqubits=NQ*2))"
      ]
    },
    {
      "cell_type": "code",
      "execution_count": 8,
      "metadata": {},
      "outputs": [
        {
          "name": "stdout",
          "output_type": "stream",
          "text": [
            "Tr(rho) =  (1+0j)\n",
            "Tr(rho**2) =  (0.65+0j)\n"
          ]
        },
        {
          "data": {
            "image/png": "[encoded data removed]",
            "text/plain": [
              "<Figure size 480x320 with 3 Axes>"
            ]
          },
          "metadata": {
            "needs_background": "light"
          },
          "output_type": "display_data"
        }
      ],
      "source": [
        "# Test generation of mixed state\n",
        "astate = random_rho(pure=False)\n",
        "print('Tr(rho) = ', np.round(np.trace(astate),2))\n",
        "print('Tr(rho**2) = ',np.round(np.trace(astate.dot(astate)),2))\n",
        "plot_dm(np.real(astate), title='Random Mixed State')"
      ]
    },
    {
      "cell_type": "markdown",
      "metadata": {},
      "source": [
        "### Bloch vector method"
      ]
    },
    {
      "cell_type": "markdown",
      "metadata": {},
      "source": [
        "## Trace Distributions"
      ]
    },
    {
      "cell_type": "markdown",
      "metadata": {},
      "source": [
        "### Mixed states from partial trace"
      ]
    },
    {
      "cell_type": "code",
      "execution_count": 9,
      "metadata": {},
      "outputs": [
        {
          "data": {
            "image/png": "[encoded data removed]",
            "text/plain": [
              "<Figure size 432x288 with 1 Axes>"
            ]
          },
          "metadata": {
            "needs_background": "light"
          },
          "output_type": "display_data"
        }
      ],
      "source": [
        "n = 10000\n",
        "traces = np.array([random_rho(pure=False) for _ in range(n)])\n",
        "traces = np.array([np.trace(rho.dot(rho)) for rho in traces])\n",
        "a=plt.hist(np.real(traces), bins=20)\n",
        "a=plt.xlabel('tr($\\\\rho^2$)')\n",
        "a=plt.title('Random States from partial trace method')"
      ]
    },
    {
      "cell_type": "markdown",
      "metadata": {},
      "source": [
        "## Retrieve independent values from density matrix"
      ]
    },
    {
      "cell_type": "code",
      "execution_count": 10,
      "metadata": {},
      "outputs": [],
      "source": [
        "# Compressing density matrix to array with independent values\n",
        "# Processing complex units is not yet implemented to pytorch, treating complex values as two ndependent real values\n",
        "\n",
        "def rho2torch(rho):\n",
        "    # Convert an NQ * NQ density matrix with complex entries to an 1D array holding all 4 * NQ - 1 degrees of freedom\n",
        "    dim = 2**NQ\n",
        "    rho = rho.reshape(dim, dim)\n",
        "\n",
        "    # First NQ entries of array are real diagonal values from density matrix\n",
        "    diags = np.array([np.real(rho[i,i]) for i in range(dim-1)])\n",
        "\n",
        "    # Stack complex values of upper right, triangular, off-diagonal matrix as two independent real numbers each\n",
        "    ur = np.array([])\n",
        "    for i in range(dim-1):\n",
        "        ur = np.hstack((ur, rho[i][i+1:dim]))\n",
        "    ur = np.hstack((np.real(ur), np.imag(ur)))\n",
        "    return np.hstack((diags, ur))\n",
        "\n",
        "def torch2rho(tensor):\n",
        "    # Convert an 1D Array holding all 4 * NQ - 1 degrees of freedom to NQ * NQ density matrix with complex entries\n",
        "    # Backtransformation regarding rho2torch\n",
        "\n",
        "    # Build diagonal matrix from first NQ entries of array\n",
        "    dim = 2**NQ\n",
        "    diag_coeff = np.array(tensor[:dim-1])\n",
        "    norm_coeff = 1 - np.sum(diag_coeff)\n",
        "    diags = np.hstack((diag_coeff, norm_coeff))\n",
        "    diags = np.diag(diags)\n",
        "\n",
        "    # Build upper right, triangular, off-diagonal matrix\n",
        "    num_ur_entries = np.sum(np.arange(dim))\n",
        "    ur_real = tensor[dim-1:dim-1+num_ur_entries]\n",
        "    ur_imag = tensor[dim-1+num_ur_entries:]\n",
        "\n",
        "    ur = np.zeros((dim,dim), dtype='complex64')\n",
        "    for i in range(num_ur_entries):\n",
        "        for j in range(i+1, dim):\n",
        "            ur[i,j] = ur_real[0] + 1.j* ur_imag[0]\n",
        "            ur_real = np.delete(ur_real, 0)\n",
        "            ur_imag = np.delete(ur_imag, 0)\n",
        "    return diags + ur + ur.T.conjugate()"
      ]
    },
    {
      "cell_type": "code",
      "execution_count": 11,
      "metadata": {},
      "outputs": [
        {
          "name": "stdout",
          "output_type": "stream",
          "text": [
            "Do rho and rho2torch2rho coincide?\n"
          ]
        },
        {
          "data": {
            "text/plain": [
              "True"
            ]
          },
          "execution_count": 11,
          "metadata": {},
          "output_type": "execute_result"
        }
      ],
      "source": [
        "# Test if forward and backward transformation result in identity\n",
        "astate = np.round(random_rho(pure=False), NQ)\n",
        "bstate = torch2rho(rho2torch(astate))\n",
        "\n",
        "print(\"Do rho and rho2torch2rho coincide?\")\n",
        "np.all((astate - bstate) < 1e10)"
      ]
    },
    {
      "cell_type": "markdown",
      "metadata": {
        "id": "T1bMebTml997"
      },
      "source": [
        "# Measurement"
      ]
    },
    {
      "cell_type": "markdown",
      "metadata": {},
      "source": [
        "## Create random set of Projectors\n",
        "Using random pure states as projectors.\n",
        "One random Projector defines a minimal Projector Valued Measure."
      ]
    },
    {
      "cell_type": "code",
      "execution_count": 12,
      "metadata": {},
      "outputs": [],
      "source": [
        "def create_random_pro(pure, n=100):\n",
        "    # Creating set of projectors from random density matrices\n",
        "    return np.array([random_rho(pure=pure) for _ in range(n)])\n",
        "\n",
        "def perform_measurements(rho, pro):\n",
        "    # Perform Measurement by calculating trace\n",
        "    return np.real( np.trace(pro.dot(rho), axis1=1, axis2=2) )"
      ]
    },
    {
      "cell_type": "code",
      "execution_count": 13,
      "metadata": {},
      "outputs": [
        {
          "name": "stdout",
          "output_type": "stream",
          "text": [
            "mean = 0.501381879360519\n",
            "std = 0.20295010837326743\n"
          ]
        },
        {
          "data": {
            "image/png": "[encoded data removed]",
            "text/plain": [
              "<Figure size 432x288 with 1 Axes>"
            ]
          },
          "metadata": {
            "needs_background": "light"
          },
          "output_type": "display_data"
        }
      ],
      "source": [
        "# Examining distribution of measurement outcomes of random projections to MIXED states for a fixed mixed state being measured\n",
        "\n",
        "base_state = random_rho(pure=False)\n",
        "projectors = create_random_pro(pure=False, n=10000)\n",
        "\n",
        "meas = perform_measurements(base_state, projectors)\n",
        "print('mean =', meas.mean())\n",
        "print('std =', meas.std())\n",
        "\n",
        "a=plt.hist(meas, bins=20)\n",
        "a=plt.title('Messung eines fixen gemischten Zustands \\nmit GEMISCHTEN Zuständen als Observable')\n",
        "a=plt.xlabel('Messergebnis')\n",
        "a=plt.ylabel('Häufigkeit')\n",
        "#a=plt.xlim(0,1)"
      ]
    },
    {
      "cell_type": "code",
      "execution_count": 14,
      "metadata": {},
      "outputs": [
        {
          "data": {
            "image/png": "[encoded data removed]",
            "text/plain": [
              "<Figure size 432x288 with 1 Axes>"
            ]
          },
          "metadata": {
            "needs_background": "light"
          },
          "output_type": "display_data"
        }
      ],
      "source": [
        "# Examining distribution of measurement outcomes of random projections to PURE states for a fixed mixed state being measured\n",
        "\n",
        "base_state = random_rho(pure=False)\n",
        "observables = create_random_pro(pure=True, n=10000)\n",
        "\n",
        "meas = perform_measurements(base_state, observables)\n",
        "\n",
        "\n",
        "a=plt.hist(meas, bins=20)\n",
        "a=plt.title('Messung eines fixen gemischten Zustands \\nmit REINEN Zuständen als Observable')\n",
        "a=plt.xlabel('Messergebnis')\n",
        "a=plt.ylabel('Häufigkeit')"
      ]
    },
    {
      "cell_type": "markdown",
      "metadata": {
        "id": "UoBkP4jbpaKa"
      },
      "source": [
        "## Create Dataset\n",
        "\n",
        "Generate ```n_states``` random mixed states and perform a set of ```n_pro``` projections on each state.\n",
        "Multiple sets of projectors are held in ```pro_arr```."
      ]
    },
    {
      "cell_type": "code",
      "execution_count": 15,
      "metadata": {},
      "outputs": [],
      "source": [
        "# Set parameters for new dataset\n",
        "n_states = int(5e4)\n",
        "exp_title = 'tomoAE2Q'\n",
        "pro_arr = [30]"
      ]
    },
    {
      "cell_type": "code",
      "execution_count": null,
      "metadata": {},
      "outputs": [],
      "source": [
        "# Generate folders\n",
        "experiment_name = exp_title + f'_{NQ}qubit_'+ state_gen_method\n",
        "if not os.path.isdir('./data/' + experiment_name):\n",
        "    os.mkdir('./data/' + experiment_name)\n",
        "\n",
        "  \n",
        "# Iterate through multiple set of fixed projectors\n",
        "for n_pro in tqdm(pro_arr):\n",
        "  for _ in range(10):\n",
        "    n_observables = n_pro\n",
        "    observables = create_random_pro(pure=True, n=n_observables)\n",
        "    states = np.array([random_rho(pure=False) for _ in range(n_states)])\n",
        "    states_freeparams = np.array([rho2torch(rho) for rho in states])    # Reduce rho to free parameters\n",
        "\n",
        "    # Generate folder for new dataset\n",
        "    timestamp = dtime.now().strftime(\"%Y%m%d_%H%M%S\")\n",
        "    PARENTPATH = f\"./data/\"+ experiment_name + f'/states{n_states}_obs{n_observables}/'\n",
        "    DATAPATH = PARENTPATH+f\"run_{timestamp}/\"\n",
        "    if not os.path.isdir(PARENTPATH):\n",
        "      os.mkdir(PARENTPATH)\n",
        "    os.mkdir(DATAPATH)\n",
        "\n",
        "    # Write out states\n",
        "    with open(DATAPATH + 'states_freeparams.csv', 'w') as f:\n",
        "      writer = csv.writer(f)\n",
        "      for state in tqdm(states_freeparams):\n",
        "        a=writer.writerow(state)\n",
        "        \n",
        "    # Write out observables\n",
        "    with open(DATAPATH + 'observables.csv', 'w') as f:\n",
        "      writer = csv.writer(f)\n",
        "      for obs in tqdm(observables):\n",
        "        a=writer.writerow(obs.reshape(4**(NQ)))\n",
        "\n",
        "    # Write out measurements \n",
        "    with open(DATAPATH + 'measurements.csv', 'w') as f:\n",
        "      writer = csv.writer(f)\n",
        "      for state in tqdm(states):\n",
        "        a=writer.writerow(perform_measurements(state, observables))\n",
        "\n",
        "    # Wait a sec so the next dataset gets a new name\n",
        "    time.sleep(1)\n"
      ]
    },
    {
      "cell_type": "markdown",
      "metadata": {
        "id": "NFjwMTXUpQx5"
      },
      "source": [
        "# Supervised State Representations (FFN)"
      ]
    },
    {
      "cell_type": "markdown",
      "metadata": {},
      "source": [
        "### Load dataset"
      ]
    },
    {
      "cell_type": "code",
      "execution_count": 17,
      "metadata": {},
      "outputs": [],
      "source": [
        "class QuantumMeasurementDataset(Dataset):\n",
        "    def __init__(self, root_dir):\n",
        "        self.measurements_frame = pd.read_csv(root_dir + 'measurements.csv', header=None)\n",
        "        self.states_frame = pd.read_csv(root_dir + 'states_freeparams.csv', header=None)\n",
        "\n",
        "    def __len__(self):\n",
        "        return len(self.states_frame)\n",
        "\n",
        "    def __getitem__(self, idx):\n",
        "        if torch.is_tensor(idx):\n",
        "            idx = idx.tolist()\n",
        "\n",
        "        measurement = self.measurements_frame.iloc[idx]\n",
        "        measurement = np.array(measurement).astype('float')\n",
        "        measurement = torch.Tensor(measurement)\n",
        "\n",
        "        state = self.states_frame.iloc[idx]\n",
        "        state = np.array(state).astype('float')\n",
        "        state = torch.Tensor(state)\n",
        "\n",
        "        return measurement, state\n"
      ]
    },
    {
      "cell_type": "code",
      "execution_count": 18,
      "metadata": {
        "id": "4GQSr4g0xUBP"
      },
      "outputs": [],
      "source": [
        "def load_dataset(datadir, nstat, BATCH_SIZE = 64, splits = np.array([0.8, 0.1, 0.1])):\n",
        "    # Train_valid_treasure split\n",
        "    assert np.sum(splits) == 1\n",
        "\n",
        "    tomography_dataset = QuantumMeasurementDataset(root_dir=datadir)\n",
        "    tomography_train_dataset, tomography_valid_dataset, tomography_treasure_dataset = torch.utils.data.random_split(\\\n",
        "        tomography_dataset, (nstat*splits).astype(int), generator=torch.Generator().manual_seed(42))\n",
        "\n",
        "    # Create data loaders from the datasets for the current task\n",
        "    # Setting drop_last=True does not consider the last batch in which there are less than BATCH_SIZE examples\n",
        "    tomography_train_dataloader = DataLoader(tomography_train_dataset, batch_size=BATCH_SIZE, shuffle=False, drop_last=True)\n",
        "    tomography_valid_dataloader = DataLoader(tomography_valid_dataset, batch_size=BATCH_SIZE, shuffle=False, drop_last=True)\n",
        "    tomography_treasure_dataloader = DataLoader(tomography_treasure_dataset, batch_size=BATCH_SIZE, shuffle=False, drop_last=True)\n",
        "    return tomography_train_dataloader, tomography_valid_dataloader, tomography_treasure_dataloader "
      ]
    },
    {
      "cell_type": "markdown",
      "metadata": {},
      "source": [
        "## Feed Forward Network\n",
        "\n",
        "Training an FFN to predict the quantum state being measured from results of random Projective Valued Masurements.\n",
        "\n",
        "Projections --> quantum state"
      ]
    },
    {
      "cell_type": "code",
      "execution_count": 19,
      "metadata": {},
      "outputs": [
        {
          "name": "stdout",
          "output_type": "stream",
          "text": [
            "cpu\n"
          ]
        }
      ],
      "source": [
        "# Check if the GPU is available\n",
        "device = torch.device(\"cuda:0\" if torch.cuda.is_available() else \"cpu\")\n",
        "print(device)"
      ]
    },
    {
      "cell_type": "code",
      "execution_count": 20,
      "metadata": {
        "colab": {
          "base_uri": "https://localhost:8080/"
        },
        "id": "xIEOe6Bgxn-S",
        "outputId": "0d5dd124-897d-4d37-ab04-1b84b253f988"
      },
      "outputs": [],
      "source": [
        "# Initializing FFN with fixed hidden layer sizes\n",
        "\n",
        "class FeedForwardNet(nn.Module):\n",
        "  def __init__(self, n_obs):\n",
        "    super().__init__()\n",
        "\n",
        "    self.dof = 4**NQ - 1\n",
        "    self.layer_sizes = [n_obs, 64, 32]\n",
        "    \n",
        "    self.layers = nn.Sequential(\n",
        "    nn.Linear(self.layer_sizes[0], self.layer_sizes[1]),\n",
        "    nn.ReLU(),\n",
        "    nn.Linear(self.layer_sizes[1], self.layer_sizes[2]),\n",
        "    nn.ReLU(),\n",
        "    nn.Linear(self.layer_sizes[2], self.dof),\n",
        "    )\n",
        "\n",
        "  def forward(self, x):\n",
        "    return self.layers(x)"
      ]
    },
    {
      "cell_type": "markdown",
      "metadata": {},
      "source": [
        "## Training"
      ]
    },
    {
      "cell_type": "code",
      "execution_count": 21,
      "metadata": {},
      "outputs": [],
      "source": [
        "# Evaluate the Mean Squared Error for a net on dataset\n",
        "def evaluate_mse_ffn(net, dataloader, criterion, device):\n",
        "    batch_loss = np.array([])\n",
        "    for batch in dataloader:\n",
        "        measurements, target = batch[0].to(device), batch[1].to(device)\n",
        "        outputs = net(measurements)\n",
        "        loss = criterion(outputs, target).clone().detach().cpu().numpy()\n",
        "        batch_loss = np.append(batch_loss, loss)\n",
        "    return np.mean(batch_loss)"
      ]
    },
    {
      "cell_type": "code",
      "execution_count": 22,
      "metadata": {
        "id": "1HGKyh1X1kpx"
      },
      "outputs": [],
      "source": [
        "# Function for training the network\n",
        "def train(net, train_epochs, train_dataloader, valid_dataloader, optimizer, criterion):\n",
        "\n",
        "    train_losses = np.array([])\n",
        "    valid_losses = np.array([])\n",
        "\n",
        "    for _ in trange(train_epochs):\n",
        "        net.train()\n",
        "        for _, samples in enumerate(train_dataloader):\n",
        "            data, target = samples[0].to(device), samples[1].to(device)\n",
        "            # Optimize parameters\n",
        "            net.zero_grad()\n",
        "            outputs = net(data)\n",
        "            loss = criterion(outputs, target)\n",
        "            loss.backward()\n",
        "            optimizer.step()\n",
        "            train_losses = np.append(train_losses, loss.clone().detach().cpu().numpy())\n",
        "\n",
        "            # Check loss on validation set\n",
        "            valid_losses = np.append(valid_losses, evaluate_mse_ffn(net, valid_dataloader, criterion, device))\n",
        "    return train_losses, valid_losses"
      ]
    },
    {
      "cell_type": "code",
      "execution_count": 23,
      "metadata": {},
      "outputs": [],
      "source": [
        "def plot_train_stats(train_losses, valid_losses, it_per_epoch, path):\n",
        "    a=plt.figure(figsize=(10,4))\n",
        "    a=plt.plot(train_losses, lw=2, label='Training Loss on current batch')\n",
        "    a=plt.xlabel('Iterations')\n",
        "    a=plt.ylabel('Loss')\n",
        "    a=plt.yscale('log')\n",
        "    a=plt.legend()\n",
        "    a=plt.title(f'Loss on training set \\t (MSE, 1 epoch = {it_per_epoch} iterations)')\n",
        "    a=plt.savefig(path + '/train_losses.png', dpi=150)\n",
        "    plt.show()\n",
        "\n",
        "    a=plt.figure(figsize=(10,4))\n",
        "    a=plt.plot(valid_losses, lw=2, label='Validation Loss on full validation set')\n",
        "    a=plt.xlabel('Iterations')\n",
        "    a=plt.ylabel('Loss')\n",
        "    a=plt.yscale('log')\n",
        "    a=plt.legend()\n",
        "    a=plt.title(f'Loss on Validation set  \\t (MSE, 1 epoch = {it_per_epoch} iterations)')\n",
        "    a=plt.savefig(path + '/valid_losses.png', dpi=150)\n",
        "    plt.show()"
      ]
    },
    {
      "cell_type": "code",
      "execution_count": 24,
      "metadata": {
        "colab": {
          "base_uri": "https://localhost:8080/"
        },
        "id": "B1SSl2G3g_KM",
        "outputId": "d324c6c7-ad11-40a1-b981-7a4b025754a6"
      },
      "outputs": [],
      "source": [
        "def ffn_wrapper(data_dir, model_title, nstat, nobs, nepochs, learning_rate, batch_size, splits = np.array([0.8, 0.1, 0.1])):\n",
        "    # Wrapper function for initializing net, criterion, optimizer, for netwirk training and automatic saving\n",
        "\n",
        "    # Extract the run name from string 'data_dir'\n",
        "    run_name = re.search('([^\\/]+$)', data_dir[:-1]).group(0)\n",
        "\n",
        "    #Load dataset\n",
        "    tomography_train_dataloader, tomography_valid_dataloader, _ = load_dataset(data_dir, nstat, batch_size, splits)\n",
        "\n",
        "    # Create the network on the CPU/GPU\n",
        "    net = FeedForwardNet(n_obs=nobs).to(device)\n",
        "    print(net)\n",
        "\n",
        "    # Loss function and optimizer\n",
        "    criterion = nn.MSELoss()\n",
        "    optimizer = optim.Adam(net.parameters(), lr=learning_rate)\n",
        "\n",
        "    # Perform Training\n",
        "    train_losses, valid_losses = train(net, nepochs, tomography_train_dataloader, tomography_valid_dataloader, optimizer, criterion)\n",
        "\n",
        "    # Save Model\n",
        "    path = f'./models/FFN_states{int(nstat)}_obs{nobs}_epochs{nepochs}_lr{learning_rate}_{model_title}_{run_name}'\n",
        "    if not os.path.isdir(path): os.mkdir(path)\n",
        "    torch.save(net.state_dict(), path + '/model.model')\n",
        "\n",
        "    # Plot training statistics\n",
        "    plot_train_stats(train_losses, valid_losses, it_per_epoch = len(tomography_train_dataloader), path=path)\n"
      ]
    },
    {
      "cell_type": "code",
      "execution_count": 25,
      "metadata": {},
      "outputs": [],
      "source": [
        "def train_multiple_runs(dataexp_path, model_title, nstat, obs_arr, bs, lr, nepochs):\n",
        "    # Function for training models on multiple datasets and automated saving\n",
        "\n",
        "    # Retrieve all combinations of dataset hyperparameters available\n",
        "    hyperparameter_dir = [f'states{int(nstat)}_obs{n_obs}' for n_obs in obs_arr]\n",
        "    for nobs, hdir in zip(obs_arr, hyperparameter_dir):\n",
        "        hpath = dataexp_path + '/' + hdir\n",
        "\n",
        "        # Retrieve all datasets for given dataset hyperparameters (nstates, nobs)\n",
        "        run_directories = [f for f in os.listdir(hpath) if os.path.isdir(os.path.join(hpath, f))]\n",
        "        for rdir in run_directories:\n",
        "            run_path = hpath + '/' + rdir + '/'\n",
        "            ffn_wrapper(data_dir = run_path,\n",
        "                        model_title=model_title,\n",
        "                        nstat=nstat,\n",
        "                        nobs=nobs,\n",
        "                        nepochs=nepochs,\n",
        "                        learning_rate=lr, \n",
        "                        batch_size=bs, \n",
        "                        splits = np.array([0.8, 0.1, 0.1]))"
      ]
    },
    {
      "cell_type": "markdown",
      "metadata": {},
      "source": [
        "## Evaluation"
      ]
    },
    {
      "cell_type": "markdown",
      "metadata": {},
      "source": [
        "### MSE on unseen dataset\n"
      ]
    },
    {
      "cell_type": "code",
      "execution_count": 26,
      "metadata": {},
      "outputs": [],
      "source": [
        "nstat = int(1e4)\n",
        "nobs = 3\n",
        "model_path = 'models/FFN_states10000_obs3_epochs15_lr0.001_ConstLatentDimension_run_20220604_092923'\n",
        "data_path = './data/tomo0604_1qubit_random_uniform_vector/states10000_obs3/run_20220604_092923'"
      ]
    },
    {
      "cell_type": "code",
      "execution_count": 27,
      "metadata": {},
      "outputs": [
        {
          "data": {
            "text/plain": [
              "<All keys matched successfully>"
            ]
          },
          "execution_count": 27,
          "metadata": {},
          "output_type": "execute_result"
        },
        {
          "name": "stdout",
          "output_type": "stream",
          "text": [
            "Mean Square Error on unseen data\n",
            "Untrained Net:  0.1679292917251587\n",
            "Trained Net:  9.949736947116132e-06\n"
          ]
        }
      ],
      "source": [
        "load_net = FeedForwardNet(n_obs=nobs).to(device)\n",
        "load_net.load_state_dict(torch.load(model_path+'/model.model'))\n",
        "_, _, tomography_treasure_dataloader = load_dataset(datadir=data_path+'/', nstat=nstat)\n",
        "\n",
        "print('Mean Square Error on unseen data')\n",
        "untrained_net = FeedForwardNet(n_obs=nobs).to(device)\n",
        "print('Untrained Net: ', evaluate_mse_ffn(\n",
        "    untrained_net, tomography_treasure_dataloader,nn.MSELoss(),device))\n",
        "print('Trained Net: ', evaluate_mse_ffn(\n",
        "    load_net, tomography_treasure_dataloader, nn.MSELoss(), device))"
      ]
    },
    {
      "cell_type": "markdown",
      "metadata": {},
      "source": [
        "### Inference"
      ]
    },
    {
      "cell_type": "code",
      "execution_count": 28,
      "metadata": {},
      "outputs": [
        {
          "name": "stderr",
          "output_type": "stream",
          "text": [
            "3it [00:00, 4452.55it/s]\n"
          ]
        }
      ],
      "source": [
        "# Import Observables\n",
        "dim = 2**NQ\n",
        "data_obs = np.zeros((0,dim,dim))\n",
        "with open(data_path+'/observables.csv', 'r') as f:\n",
        "  reader = csv.reader(f)\n",
        "  for line in tqdm(reader):\n",
        "    data_obs = np.vstack((data_obs, np.array([np.array(line).reshape(dim,dim).astype('complex128')])))"
      ]
    },
    {
      "cell_type": "code",
      "execution_count": 29,
      "metadata": {},
      "outputs": [
        {
          "data": {
            "image/png": "[encoded data removed]",
            "text/plain": [
              "<Figure size 480x320 with 3 Axes>"
            ]
          },
          "metadata": {
            "needs_background": "light"
          },
          "output_type": "display_data"
        },
        {
          "data": {
            "image/png": "[encoded data removed]",
            "text/plain": [
              "<Figure size 480x320 with 3 Axes>"
            ]
          },
          "metadata": {
            "needs_background": "light"
          },
          "output_type": "display_data"
        }
      ],
      "source": [
        "# Initialize a random state and perform measurements\n",
        "rho_infer = random_rho(pure=False)\n",
        "m_infer = torch.Tensor(perform_measurements(rho_infer, data_obs))\n",
        "\n",
        "# Evaluate Network on measurement probabilities and plot prediction\n",
        "freeparam_pred = load_net.forward(m_infer.to(device)).detach().cpu().numpy()\n",
        "rho_pred = torch2rho(freeparam_pred)\n",
        "plot_dm(np.real(rho_infer), title='Original')\n",
        "plot_dm(np.real(rho_pred), title='Prediction')"
      ]
    },
    {
      "cell_type": "markdown",
      "metadata": {},
      "source": [
        "# Unsupervised State Representations (AE)"
      ]
    },
    {
      "cell_type": "markdown",
      "metadata": {},
      "source": [
        "## Autoencoder"
      ]
    },
    {
      "cell_type": "code",
      "execution_count": 30,
      "metadata": {
        "colab": {
          "base_uri": "https://localhost:8080/"
        },
        "id": "xIEOe6Bgxn-S",
        "outputId": "0d5dd124-897d-4d37-ab04-1b84b253f988"
      },
      "outputs": [],
      "source": [
        "class AutoencoderNet(nn.Module):\n",
        "\n",
        "  def __init__(self, latent_dim, measurement_dim):\n",
        "    super().__init__()\n",
        "\n",
        "    self.layer1_size = 64\n",
        "    self.layer2_size = 32\n",
        "\n",
        "    self.encoder = nn.Sequential(\n",
        "    nn.Linear(measurement_dim, self.layer1_size),\n",
        "    nn.ReLU(),\n",
        "    nn.Linear(self.layer1_size, self.layer2_size),\n",
        "    nn.ReLU(),\n",
        "    nn.Linear(self.layer2_size, latent_dim),\n",
        "    )\n",
        "\n",
        "    self.decoder = nn.Sequential(\n",
        "    nn.Linear(latent_dim, self.layer2_size),\n",
        "    nn.ReLU(),\n",
        "    nn.Linear(self.layer2_size, self.layer1_size),\n",
        "    nn.ReLU(),\n",
        "    nn.Linear(self.layer1_size, measurement_dim),\n",
        "    )\n",
        "\n",
        "  def forward(self, x):\n",
        "    minrep = self.encoder(x)\n",
        "    output = self.decoder(minrep)\n",
        "    return output\n",
        "  \n",
        "  def encode(self, x):\n",
        "    return self.encoder(x)"
      ]
    },
    {
      "cell_type": "markdown",
      "metadata": {},
      "source": [
        "## Training"
      ]
    },
    {
      "cell_type": "code",
      "execution_count": 31,
      "metadata": {},
      "outputs": [],
      "source": [
        "def evaluate_mse_ae(net, dataloader, criterion, device):\n",
        "    batch_loss = np.array([])\n",
        "    for batch in dataloader:\n",
        "        measurements = batch[0].to(device)\n",
        "        outputs = net(measurements)\n",
        "        loss = criterion(outputs, measurements).clone().detach().cpu().numpy()\n",
        "        batch_loss = np.append(batch_loss, loss)\n",
        "    return np.mean(batch_loss)"
      ]
    },
    {
      "cell_type": "code",
      "execution_count": 32,
      "metadata": {
        "id": "1HGKyh1X1kpx"
      },
      "outputs": [],
      "source": [
        "# Function for training the network\n",
        "def ae_train(net, train_epochs, train_dataloader, valid_dataloader, optimizer, criterion):\n",
        "\n",
        "    train_losses = np.array([])\n",
        "    valid_losses = np.array([])\n",
        "\n",
        "    for epoch in trange(train_epochs):\n",
        "        net.train()\n",
        "        for batch_idx, samples in enumerate(train_dataloader):\n",
        "            data, target = samples[0].to(device), samples[1].to(device)\n",
        "            # Optimize parameters\n",
        "            net.zero_grad()\n",
        "            outputs = net(data)\n",
        "            loss = criterion(outputs, data)\n",
        "            loss.backward()\n",
        "            optimizer.step()\n",
        "            train_losses = np.append(train_losses, loss.clone().detach().cpu().numpy())\n",
        "\n",
        "            # Check loss on validation set\n",
        "            valid_losses = np.append(valid_losses, evaluate_mse_ae(net, valid_dataloader, criterion, device))\n",
        "\n",
        "    return train_losses, valid_losses"
      ]
    },
    {
      "cell_type": "code",
      "execution_count": 33,
      "metadata": {},
      "outputs": [],
      "source": [
        "# Wrapper Function for network training  and evaluation on unseen data\n",
        "def ae_train_eval(data_dir,\n",
        "                  model_title,\n",
        "                  nstat,\n",
        "                  nobs,\n",
        "                  latent_size, \n",
        "                  learning_rate, \n",
        "                  nepochs):\n",
        "\n",
        "    # Retrieve name of dataset from data_dir\n",
        "    run_name = re.search('([^\\/]+$)', data_dir[:-1]).group(0)\n",
        "\n",
        "    # Load data\n",
        "    train_dataloader, valid_dataloader, treasure_dataloader = load_dataset(data_dir+'/', nstat)\n",
        "\n",
        "    # Create the network on the CPU/GPU\n",
        "    ae_net = AutoencoderNet(measurement_dim=nobs, latent_dim=latent_size).to(device)\n",
        "\n",
        "    # Initialize loss function and optimizer\n",
        "    criterion = nn.MSELoss()\n",
        "    optimizer = optim.Adam(ae_net.parameters(), lr=learning_rate)\n",
        "\n",
        "    # Network training\n",
        "    train_losses, valid_losses = ae_train(  ae_net, \n",
        "                                            nepochs, \n",
        "                                            train_dataloader, \n",
        "                                            valid_dataloader, \n",
        "                                            optimizer, \n",
        "                                            criterion)\n",
        "\n",
        "    # Log the loss on the unseen set                  \n",
        "    treasure_loss = evaluate_mse_ae(ae_net, treasure_dataloader, criterion, device)\n",
        "\n",
        "    # Save Model\n",
        "    path = f'./models/AE_states{int(nstat)}_obs{nobs}_latentdim{latent_size}_epochs{nepochs}_lr{learning_rate}_{model_title}_{run_name}'\n",
        "    if not os.path.isdir(path): os.mkdir(path)\n",
        "    torch.save(ae_net.state_dict(), path + '/model.model')\n",
        "\n",
        "    # Plot training statistics\n",
        "    plot_train_stats(train_losses, valid_losses, it_per_epoch = len(train_dataloader), path=path)\n",
        "\n",
        "    return treasure_loss\n"
      ]
    },
    {
      "cell_type": "code",
      "execution_count": 34,
      "metadata": {},
      "outputs": [],
      "source": [
        "# Function for training autoencoders with varying dimensions of latent layer\n",
        "# for multiple datasets with fixed hyperparameters\n",
        "def ae_train_multiple_runs(data_path, model_title, latent_dims, nstat, nobs, lr, nepochs):\n",
        "    performances = np.array([])\n",
        "\n",
        "    # Retrieve directories of datasets\n",
        "    run_directories = [f for f in os.listdir(data_path) if os.path.isdir(os.path.join(data_path, f))]\n",
        "    for rdir in run_directories:\n",
        "        run_path = data_path + '/' + rdir + '/'\n",
        "        run_perf = np.array([])\n",
        "\n",
        "        # Train autoencoders for multiple latent layer dimensions\n",
        "        for ldim in latent_dims:\n",
        "            perf = ae_train_eval(data_dir=run_path,\n",
        "                            model_title=model_title,\n",
        "                            nstat=nstat,\n",
        "                            nobs=nobs,\n",
        "                            latent_size=ldim, \n",
        "                            learning_rate=lr, \n",
        "                            nepochs=nepochs)\n",
        "            print(perf)\n",
        "            run_perf = np.append(run_perf, perf)\n",
        "        performances = np.append(performances, run_perf)\n",
        "    return performances"
      ]
    },
    {
      "cell_type": "code",
      "execution_count": 42,
      "metadata": {},
      "outputs": [],
      "source": [
        "# Wrapper Function for evaluating an autoencoder model on a dataset\n",
        "def ae_treasure_evaluation(n_states, nobservables, latent_size, data_path, model_path=None):\n",
        "    # Load unseen dataset\n",
        "    _, _, treasure_dataloader = load_dataset(data_path+'/', n_states)\n",
        "    \n",
        "    # Initialize new network\n",
        "    load_net = AutoencoderNet(measurement_dim=nobservables, latent_dim=latent_size).to(device)\n",
        "    \n",
        "    # Load trained parameters of specified\n",
        "    if model_path: load_net.load_state_dict(torch.load(model_path+'/model.model'))\n",
        "\n",
        "    return evaluate_mse_ae(load_net, treasure_dataloader, nn.MSELoss(), device)"
      ]
    },
    {
      "cell_type": "markdown",
      "metadata": {},
      "source": [
        "## Evaluation"
      ]
    },
    {
      "cell_type": "markdown",
      "metadata": {},
      "source": [
        "### MSE on unseen dataset "
      ]
    },
    {
      "cell_type": "code",
      "execution_count": 43,
      "metadata": {},
      "outputs": [],
      "source": [
        "n_states = 1e4\n",
        "n_proj = 100\n",
        "latent_dim = 3\n",
        "ae_data_path = './data/tomo0604_1qubit_random_uniform_vector/states10000_obs100/run_20220604_092835'\n",
        "ae_model_path = './models/AE_states10000_obs100_latentdim3_epochs20_lr0.001_FindMinDim_run_20220604_092835'"
      ]
    },
    {
      "cell_type": "code",
      "execution_count": 44,
      "metadata": {},
      "outputs": [
        {
          "name": "stdout",
          "output_type": "stream",
          "text": [
            "Mean Square Error on unseen data\n",
            "Untrained Net:  0.3051785926024119\n",
            "Trained Net:  1.1141267471733347e-05\n"
          ]
        }
      ],
      "source": [
        "print('Mean Square Error on unseen data')\n",
        "print('Untrained Net: ', ae_treasure_evaluation(n_states, n_proj, latent_dim, ae_data_path))\n",
        "print('Trained Net: ', ae_treasure_evaluation(n_states, n_proj, latent_dim, ae_data_path, ae_model_path))"
      ]
    }
  ],
  "metadata": {
    "accelerator": "GPU",
    "colab": {
      "name": "density_gen.ipynb",
      "provenance": []
    },
    "interpreter": {
      "hash": "9e1189262ca0df3b9d8213bef524ce06e92d3334b6ddd6742255fbf78974bbcb"
    },
    "kernelspec": {
      "display_name": "Python 3.9.11 64-bit ('thenv')",
      "language": "python",
      "name": "python3"
    },
    "language_info": {
      "codemirror_mode": {
        "name": "ipython",
        "version": 3
      },
      "file_extension": ".py",
      "mimetype": "text/x-python",
      "name": "python",
      "nbconvert_exporter": "python",
      "pygments_lexer": "ipython3",
      "version": "3.9.11"
    },
    "orig_nbformat": 4
  },
  "nbformat": 4,
  "nbformat_minor": 0
}
