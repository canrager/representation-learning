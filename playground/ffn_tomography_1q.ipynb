{
  "cells": [
    {
      "cell_type": "code",
      "execution_count": 10,
      "metadata": {
        "id": "_Lsw8G9Vl99y"
      },
      "outputs": [],
      "source": [
        "# General Imports\n",
        "import numpy as np\n",
        "import csv\n",
        "from datetime import datetime as time\n",
        "import os\n",
        "\n",
        "# Plotting\n",
        "import matplotlib.pyplot as plt\n",
        "from matplotlib import cm\n",
        "from matplotlib.colors import Normalize\n",
        "# TeX Label Config\n",
        "import matplotlib as mpl\n",
        "mpl.rcParams.update({\n",
        "    'text.usetex': False,\n",
        "    'font.family': 'serif',\n",
        "    'font.serif': 'cmr10',\n",
        "    'mathtext.fontset': 'cm',\n",
        "    'font.family': 'STIXGeneral',\n",
        "    'font.size': 12,\n",
        "    'axes.unicode_minus': True,\n",
        "    'figure.autolayout': True,\n",
        "    'legend.fontsize': 'large'\n",
        "    })\n",
        "\n",
        "# Pytorch\n",
        "import torch\n",
        "import torch.nn as nn\n",
        "import torch.optim as optim\n",
        "from torch.utils.data import Dataset, DataLoader\n",
        "\n",
        "# Sklearn\n",
        "from sklearn.model_selection import train_test_split\n",
        "\n",
        "# tqdm for progress bar\n",
        "from tqdm import trange, tqdm\n",
        "\n",
        "# ipython config\n",
        "from IPython.core.interactiveshell import InteractiveShell\n",
        "InteractiveShell.ast_node_interactivity = \"all\""
      ]
    },
    {
      "cell_type": "markdown",
      "metadata": {
        "id": "3ODhBh7wl990"
      },
      "source": [
        "# State Generation"
      ]
    },
    {
      "cell_type": "code",
      "execution_count": 11,
      "metadata": {},
      "outputs": [],
      "source": [
        "def plot_dm(astate):\n",
        "\n",
        "    # Init arrays\n",
        "    dim = astate.shape[0]\n",
        "    dz = astate.ravel()\n",
        "    xpos, ypos = np.meshgrid(np.arange(dim), np.arange(dim))\n",
        "    xpos = xpos.ravel()\n",
        "    ypos = ypos.ravel()\n",
        "\n",
        "\n",
        "    fig = plt.figure(dpi=80)\n",
        "\n",
        "    # Init colorbar\n",
        "    cmap = cm.get_cmap('plasma')\n",
        "    norm = Normalize(vmin=min(dz), vmax=max(dz))\n",
        "    colors = cmap(norm(dz))\n",
        "\n",
        "    # 2D color plot\n",
        "    ax = fig.add_subplot(5,7,(12,28))\n",
        "    ax.imshow(astate, vmin=min(dz), vmax=max(dz), cmap=cmap)\n",
        "    a=ax.set_xticks(xpos)\n",
        "    a=ax.set_yticks(ypos)\n",
        "    a=sc = cm.ScalarMappable(cmap=cmap,norm=norm)\n",
        "    a=sc.set_array([])\n",
        "    a=plt.colorbar(sc)\n",
        "\n",
        "\n",
        "    # Classical 3D density matrix plot\n",
        "    ax = fig.add_subplot(5,7,(1,32), projection='3d')\n",
        "    a=ax.bar3d(x=xpos-.25, y=ypos-.25, z=0, dx=0.5, dy=0.5, dz=dz, color=colors)\n",
        "    a=ax.set_xticks(xpos)\n",
        "    a=ax.set_yticks(ypos)\n",
        "    a=ax.set_zticks([])\n",
        "    a=ax.set_zlim(-max(dz), max(dz))\n",
        "    a=ax.grid(False)\n",
        "    #Plot grid on z=0\n",
        "    for i in range(dim):\n",
        "        a=ax.plot(i*np.ones(dim), np.arange(dim), 0, color='k', lw=.5)\n",
        "        a=ax.plot(np.arange(dim), i*np.ones(dim), 0, color='k', lw=.5)\n",
        "\n",
        "    plt.show()"
      ]
    },
    {
      "cell_type": "markdown",
      "metadata": {
        "id": "NFjwMTXUpQx5"
      },
      "source": [
        "# Tomograpy FFN"
      ]
    },
    {
      "cell_type": "markdown",
      "metadata": {},
      "source": [
        "### Read dataset"
      ]
    },
    {
      "cell_type": "code",
      "execution_count": 34,
      "metadata": {
        "colab": {
          "base_uri": "https://localhost:8080/"
        },
        "id": "jdqdRM8o55c6",
        "outputId": "38c86c18-b8a2-480f-c15d-e34a57434d4b"
      },
      "outputs": [
        {
          "name": "stderr",
          "output_type": "stream",
          "text": [
            "50000it [00:01, 46593.99it/s] \n",
            "100it [00:00, 60655.16it/s]\n",
            "50000it [01:13, 678.75it/s] \n"
          ]
        },
        {
          "data": {
            "text/plain": [
              "(50000, 100)"
            ]
          },
          "execution_count": 34,
          "metadata": {},
          "output_type": "execute_result"
        },
        {
          "data": {
            "text/plain": [
              "(50000, 3)"
            ]
          },
          "execution_count": 34,
          "metadata": {},
          "output_type": "execute_result"
        },
        {
          "data": {
            "text/plain": [
              "35000"
            ]
          },
          "execution_count": 34,
          "metadata": {},
          "output_type": "execute_result"
        },
        {
          "data": {
            "text/plain": [
              "9000"
            ]
          },
          "execution_count": 34,
          "metadata": {},
          "output_type": "execute_result"
        },
        {
          "data": {
            "text/plain": [
              "6000"
            ]
          },
          "execution_count": 34,
          "metadata": {},
          "output_type": "execute_result"
        }
      ],
      "source": [
        "datadir = './data/states50000_obs100_2022-04-26_08:57:15/'\n",
        "nstat = int(5e4)\n",
        "nobs = 100\n",
        "\n",
        "y = np.zeros((0,3))\n",
        "X = np.zeros((0,nobs))\n",
        "data_obs = np.zeros((0,2,2))\n",
        "\n",
        "# Read states\n",
        "with open(datadir+'states.csv', 'r') as f:\n",
        "  reader = csv.reader(f)\n",
        "  for line in tqdm(reader):\n",
        "    y = np.vstack((y, np.array(np.array(line).astype('float'))))\n",
        "\n",
        "# Read observables\n",
        "with open(datadir+'observables.csv', 'r') as f:\n",
        "  reader = csv.reader(f)\n",
        "  for line in tqdm(reader):\n",
        "    data_obs = np.vstack((data_obs, np.array([np.array(line).reshape(2,2).astype('complex128')])))\n",
        "\n",
        "# Read states\n",
        "with open(datadir+'measurements.csv', 'r') as f:\n",
        "  reader = csv.reader(f)\n",
        "  for line in tqdm(reader):\n",
        "    X = np.vstack((X, np.array(np.array(line).astype('float'))))\n",
        "\n",
        "\n",
        "X_train, X_left, y_train, y_left = train_test_split(\n",
        "    X, y, test_size=0.3, random_state=42)\n",
        "\n",
        "X_valid, X_treasure, y_valid, y_treasure = train_test_split(\n",
        "    X_left, y_left, test_size=0.4, random_state=42)\n",
        "\n",
        "X.shape\n",
        "y.shape\n",
        "X_train.shape[0]\n",
        "X_valid.shape[0]\n",
        "X_treasure.shape[0]"
      ]
    },
    {
      "cell_type": "code",
      "execution_count": 35,
      "metadata": {
        "id": "d6qaqKYysM99"
      },
      "outputs": [],
      "source": [
        "class CustomDataset(Dataset):\n",
        "\n",
        "  def __init__(self, X, Y):\n",
        "        self.X = torch.from_numpy(X).float()\n",
        "        self.Y = torch.from_numpy(Y).float()\n",
        "\n",
        "  def __len__(self):\n",
        "        return len(self.X)\n",
        "\n",
        "  def __getitem__(self, index):\n",
        "        # Select sample\n",
        "        X = self.X[index]\n",
        "\n",
        "        # Load data and get label\n",
        "        x = self.X[index]\n",
        "        y = self.Y[index]\n",
        "\n",
        "        return x, y"
      ]
    },
    {
      "cell_type": "code",
      "execution_count": 36,
      "metadata": {
        "id": "lhgNMxXFw-EP"
      },
      "outputs": [],
      "source": [
        "tomography_train_dataset = CustomDataset(X_train, y_train)\n",
        "tomography_valid_dataset = CustomDataset(X_valid, y_valid)"
      ]
    },
    {
      "cell_type": "code",
      "execution_count": 37,
      "metadata": {
        "id": "4GQSr4g0xUBP"
      },
      "outputs": [],
      "source": [
        "# Define the batch size\n",
        "BATCH_SIZE = 64\n",
        "\n",
        "# Create data loaders from the datasets for the current task\n",
        "# Setting drop_last=True does not consider the last batch in which there are less than BATCH_SIZE examples\n",
        "tomography_train_dataloader = DataLoader(tomography_train_dataset, batch_size=BATCH_SIZE, shuffle=False, drop_last=True)\n",
        "tomography_valid_dataloader = DataLoader(tomography_valid_dataset, batch_size=BATCH_SIZE, shuffle=False, drop_last=True)"
      ]
    },
    {
      "cell_type": "markdown",
      "metadata": {
        "id": "f49OO7AUx5XL"
      },
      "source": [
        "Feed Forward Neural Network"
      ]
    },
    {
      "cell_type": "code",
      "execution_count": null,
      "metadata": {
        "colab": {
          "base_uri": "https://localhost:8080/"
        },
        "id": "xIEOe6Bgxn-S",
        "outputId": "0d5dd124-897d-4d37-ab04-1b84b253f988"
      },
      "outputs": [],
      "source": [
        "class FeedForwardNet(nn.Module):\n",
        "\n",
        "  def __init__(self):\n",
        "    super().__init__()\n",
        "\n",
        "    self.layers = nn.Sequential(\n",
        "    nn.Linear(100, 64),\n",
        "    nn.ReLU(),\n",
        "    nn.Linear(64,32),\n",
        "    nn.ReLU(),\n",
        "    nn.Linear(32,3),\n",
        "    )\n",
        "\n",
        "  def forward(self, x):\n",
        "    return self.layers(x)"
      ]
    },
    {
      "cell_type": "code",
      "execution_count": 39,
      "metadata": {
        "id": "1HGKyh1X1kpx"
      },
      "outputs": [],
      "source": [
        "# Function for training the network\n",
        "def train(net, train_epochs, train_dataloader, valid_dataloader, optimizer, criterion):\n",
        "\n",
        "    train_losses = np.array([])\n",
        "    valid_losses = np.array([])\n",
        "\n",
        "    for epoch in trange(train_epochs):\n",
        "        net.train()\n",
        "        for batch_idx, samples in enumerate(train_dataloader):\n",
        "            data, target = samples[0].to(device), samples[1].to(device)\n",
        "            # Optimize parameters\n",
        "            net.zero_grad()\n",
        "            outputs = net(data)\n",
        "            loss = criterion(outputs, target)\n",
        "            loss.backward()\n",
        "            optimizer.step()\n",
        "            train_losses = np.append(train_losses, loss.clone().detach().cpu().numpy())\n",
        "\n",
        "            # Check loss on validation set\n",
        "            valid_batch_loss = np.array([])\n",
        "            for valid_batch in valid_dataloader:\n",
        "                valid_measurements, valid_target = valid_batch[0].to(device), valid_batch[1].to(device)\n",
        "                valid_outputs = net(valid_measurements)\n",
        "                valid_loss = criterion(valid_outputs, valid_target).clone().detach().cpu().numpy()\n",
        "                valid_batch_loss = np.append(valid_batch_loss, valid_loss)\n",
        "            valid_losses = np.append(valid_losses, np.mean(valid_batch_loss))\n",
        "    return train_losses, valid_losses"
      ]
    },
    {
      "cell_type": "code",
      "execution_count": 40,
      "metadata": {
        "colab": {
          "base_uri": "https://localhost:8080/"
        },
        "id": "B1SSl2G3g_KM",
        "outputId": "d324c6c7-ad11-40a1-b981-7a4b025754a6"
      },
      "outputs": [
        {
          "name": "stdout",
          "output_type": "stream",
          "text": [
            "cpu\n"
          ]
        },
        {
          "name": "stderr",
          "output_type": "stream",
          "text": [
            "100%|██████████| 2/2 [00:26<00:00, 13.48s/it]\n"
          ]
        }
      ],
      "source": [
        "# Check if the GPU is available\n",
        "device = torch.device(\"cuda:0\" if torch.cuda.is_available() else \"cpu\")\n",
        "print(device)\n",
        "\n",
        "# Create the network on the CPU/GPU\n",
        "net = FeedForwardNet().to(device)\n",
        "\n",
        "# Loss function and optimizer\n",
        "criterion = nn.MSELoss()\n",
        "optimizer = optim.SGD(net.parameters(), lr=0.05)\n",
        "\n",
        "train_losses, valid_losses = train(net, 2, tomography_train_dataloader, tomography_valid_dataloader, optimizer, criterion)"
      ]
    },
    {
      "cell_type": "code",
      "execution_count": 41,
      "metadata": {},
      "outputs": [],
      "source": [
        "def plot_train_stats(train_losses, valid_losses, batchsize):\n",
        "    it_per_epoch = X_train.shape[0] // batchsize\n",
        "\n",
        "    a=plt.figure(figsize=(10,4))\n",
        "    a=plt.plot(train_losses, lw=2, label='Training Loss on current batch')\n",
        "    a=plt.xlabel('Iterations')\n",
        "    a=plt.ylabel('Loss')\n",
        "    a=plt.legend()\n",
        "    a=plt.title(f'Loss on training set \\t (MSE, 1 epoch = {it_per_epoch} iterations)')\n",
        "    plt.show()\n",
        "\n",
        "    a=plt.figure(figsize=(10,4))\n",
        "    a=plt.plot(valid_losses, lw=2, label='Validation Loss on full validation set')\n",
        "    a=plt.xlabel('Iterations')\n",
        "    a=plt.ylabel('Loss')\n",
        "    a=plt.legend()\n",
        "    a=plt.title(f'Loss (MSE) on Validation set  \\t (MSE, 1 epoch = {it_per_epoch} iterations)')\n",
        "    plt.show()\n",
        "\n",
        "plot_train_stats(train_losses, valid_losses, BATCH_SIZE)"
      ]
    },
    {
      "cell_type": "code",
      "execution_count": 42,
      "metadata": {
        "colab": {
          "base_uri": "https://localhost:8080/",
          "height": 329
        },
        "id": "U4U4VN6Oi8fr",
        "outputId": "47dae4e8-5173-4bc8-a061-83c4fd1e6eea"
      },
      "outputs": [
        {
          "name": "stderr",
          "output_type": "stream",
          "text": [
            "/Users/canrager/.pyenv/versions/3.9.11/envs/thenv/lib/python3.9/site-packages/IPython/core/pylabtools.py:151: UserWarning: Glyph 9 (\t) missing from current font.\n",
            "  fig.canvas.print_figure(bytes_io, **kw)\n"
          ]
        },
        {
          "data": {
            "image/png": "[encoded data removed]",
            "text/plain": [
              "<Figure size 720x288 with 1 Axes>"
            ]
          },
          "metadata": {
            "needs_background": "light"
          },
          "output_type": "display_data"
        },
        {
          "name": "stderr",
          "output_type": "stream",
          "text": [
            "/Users/canrager/.pyenv/versions/3.9.11/envs/thenv/lib/python3.9/site-packages/IPython/core/pylabtools.py:151: UserWarning: Glyph 9 (\t) missing from current font.\n",
            "  fig.canvas.print_figure(bytes_io, **kw)\n"
          ]
        },
        {
          "data": {
            "image/png": "[encoded data removed]",
            "text/plain": [
              "<Figure size 720x288 with 1 Axes>"
            ]
          },
          "metadata": {
            "needs_background": "light"
          },
          "output_type": "display_data"
        }
      ],
      "source": [
        "plot_train_stats(train_losses, valid_losses, BATCH_SIZE)"
      ]
    },
    {
      "cell_type": "code",
      "execution_count": 44,
      "metadata": {},
      "outputs": [
        {
          "data": {
            "text/plain": [
              "2.289396070409566e-05"
            ]
          },
          "execution_count": 44,
          "metadata": {},
          "output_type": "execute_result"
        },
        {
          "data": {
            "text/plain": [
              "6.46651937911104e-05"
            ]
          },
          "execution_count": 44,
          "metadata": {},
          "output_type": "execute_result"
        }
      ],
      "source": [
        "train_losses[-1]\n",
        "valid_losses[-1]"
      ]
    },
    {
      "cell_type": "markdown",
      "metadata": {
        "id": "bP8nG_6ZHRzh"
      },
      "source": [
        "# Inference"
      ]
    },
    {
      "cell_type": "markdown",
      "metadata": {},
      "source": [
        "#### Random state generation"
      ]
    },
    {
      "cell_type": "code",
      "execution_count": 49,
      "metadata": {},
      "outputs": [],
      "source": [
        "def create_pure_rho(nqubits):\n",
        "    dim = 2**nqubits\n",
        "    psi =   np.random.uniform(low=-1, high=1, size=dim) +\\\n",
        "            1j * np.random.uniform(low=-1, high=1, size=dim) \n",
        "    rho = np.outer(psi, psi.T.conjugate())\n",
        "\n",
        "    # Trace condition\n",
        "    rho /= np.trace(rho)\n",
        "\n",
        "    # Positive semi-definiteness condition\n",
        "    if not np.all(np.linalg.eigvals(rho) >= 0):\n",
        "        #print('recursive')\n",
        "        return create_pure_rho(nqubits)\n",
        "    return rho\n",
        "\n",
        "def partial_trace(rho):\n",
        "    #trace is independent of basis choice of traced subsystem\n",
        "    basis = np.eye(2)\n",
        "    reduced = np.zeros((2,2), dtype=np.complex128)\n",
        "    for bvec in basis:\n",
        "        bra = np.kron(np.eye(2), bvec)\n",
        "        reduced += bra.dot(rho.dot(bra.T))\n",
        "    return reduced\n",
        "\n",
        "# Wrapper function\n",
        "def random_rho(pure):\n",
        "    if pure:\n",
        "        return create_pure_rho(nqubits=1)\n",
        "    else:\n",
        "        return partial_trace(create_pure_rho(nqubits=2))\n",
        "\n",
        "def perform_measurements(rho, observables):\n",
        "    return np.real( np.trace(observables.dot(rho), axis1=1, axis2=2) )\n",
        "\n",
        "# Define Pauli matrices\n",
        "s1 = np.array([[0,1],[1,0]])\n",
        "s2 = np.array([[0,-1j],[1j,0]])\n",
        "s3 = np.array([[1,0],[0,-1]])\n",
        "\n",
        "pauli_matrices = np.array([s1, s2, s3])\n",
        "\n",
        "def bloch2mat(vec):\n",
        "    assert vec.shape[0] == 3\n",
        "    r_sig = vec[0] * s1 + vec[1] * s2 + vec[2] * s3\n",
        "    return np.array((np.eye(2) + r_sig) /2)"
      ]
    },
    {
      "cell_type": "markdown",
      "metadata": {},
      "source": [
        "#### Do inference"
      ]
    },
    {
      "cell_type": "code",
      "execution_count": 64,
      "metadata": {},
      "outputs": [
        {
          "data": {
            "image/png": "[encoded data removed]",
            "text/plain": [
              "<Figure size 480x320 with 3 Axes>"
            ]
          },
          "metadata": {
            "needs_background": "light"
          },
          "output_type": "display_data"
        },
        {
          "data": {
            "image/png": "[encoded data removed]",
            "text/plain": [
              "<Figure size 480x320 with 3 Axes>"
            ]
          },
          "metadata": {
            "needs_background": "light"
          },
          "output_type": "display_data"
        }
      ],
      "source": [
        "rho_infer = random_rho(pure=False)\n",
        "m_infer = torch.Tensor(perform_measurements(rho_infer, data_obs))\n",
        "bloch_pred = net.forward(m_infer.to(device)).detach().cpu().numpy()\n",
        "rho_pred = bloch2mat(bloch_pred)\n",
        "\n",
        "plot_dm(np.real(rho_infer))\n",
        "plot_dm(np.real(rho_pred))"
      ]
    },
    {
      "cell_type": "markdown",
      "metadata": {},
      "source": [
        "17.04.\n",
        "\n",
        "Verbesserungsansätze: \n",
        "- netzwerk vergrößern\n",
        "  - nichts gebracht\n",
        "- andere loss function mit mehr gewicht für outliers\n",
        "  - bereits MSE verwendet, was mehr weight auf outliers gibt as MAE=L1, konvergiert bei 0.02 training loss\n",
        "  - MAE bringt nichts, resultiert in 0.7 training loss\n",
        "- berücksichtigen, dass information auf offdiagonaler redundant ist\n",
        "  - siehe neues notebook error von bloch vektoren"
      ]
    },
    {
      "cell_type": "markdown",
      "metadata": {},
      "source": [
        "Briegel fragen was genau es bringt im AE nicht über die dichtematrix zu gehen sondern direkt auf kompakteste repräsentation zu lernen."
      ]
    },
    {
      "cell_type": "markdown",
      "metadata": {},
      "source": [
        "20.04.\n",
        "\n",
        "- ausschließlich die lr von 0.001 auf 0.05 erhöht, lernt gut.\n",
        "- netzwerk lernt auch mit kleinerer architektur 100-64-32-3\n",
        "\n",
        "- wieviele n_obs mindestens notwendig?\n"
      ]
    }
  ],
  "metadata": {
    "accelerator": "GPU",
    "colab": {
      "name": "density_gen.ipynb",
      "provenance": []
    },
    "interpreter": {
      "hash": "7439760cf7d2aa9049b62431f25e4b3ea37b06f2d15d50054f5ed677eb6950d7"
    },
    "kernelspec": {
      "display_name": "Python 3.10.0 64-bit ('3.10.0')",
      "language": "python",
      "name": "python3"
    },
    "language_info": {
      "codemirror_mode": {
        "name": "ipython",
        "version": 3
      },
      "file_extension": ".py",
      "mimetype": "text/x-python",
      "name": "python",
      "nbconvert_exporter": "python",
      "pygments_lexer": "ipython3",
      "version": "3.9.11"
    },
    "orig_nbformat": 4
  },
  "nbformat": 4,
  "nbformat_minor": 0
}
