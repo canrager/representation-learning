{
 "cells": [
  {
   "cell_type": "code",
   "execution_count": 1,
   "metadata": {},
   "outputs": [],
   "source": [
    "import numpy as np\n",
    "import matplotlib.pyplot as plt"
   ]
  },
  {
   "cell_type": "markdown",
   "metadata": {
    "id": "79ABqF_0l994"
   },
   "source": [
    "#### Not used"
   ]
  },
  {
   "cell_type": "code",
   "execution_count": 2,
   "metadata": {
    "colab": {
     "base_uri": "https://localhost:8080/",
     "height": 299
    },
    "id": "JCwFWDPgl994",
    "outputId": "c0c383f9-d377-4ae2-895b-57c738c7513c"
   },
   "outputs": [
    {
     "name": "stdout",
     "output_type": "stream",
     "text": [
      "theta = 4.777817083964137\n"
     ]
    },
    {
     "data": {
      "image/png": "[encoded data removed]",
      "text/plain": [
       "<Figure size 432x288 with 1 Axes>"
      ]
     },
     "metadata": {
      "needs_background": "light"
     },
     "output_type": "display_data"
    },
    {
     "data": {
      "text/plain": [
       "<Figure size 432x432 with 0 Axes>"
      ]
     },
     "metadata": {},
     "output_type": "display_data"
    }
   ],
   "source": [
    "\n",
    "def randONB2d():\n",
    "    theta = np.random.uniform() * 2*np.pi\n",
    "    print(f'theta = {theta}')\n",
    "    vec1 = np.array([np.cos(theta), np.sin(theta)])\n",
    "    vec2 = np.array([-vec1[1], vec1[0]])\n",
    "    return np.array([vec1, vec2])\n",
    "\n",
    "basis = randONB2d()\n",
    "plt.scatter(basis[:,0], basis[:,1])\n",
    "plt.scatter(-basis[:,0], -basis[:,1])\n",
    "plt.scatter(0,0)\n",
    "plt.grid()\n",
    "plt.figure(figsize=(6,6));"
   ]
  },
  {
   "cell_type": "code",
   "execution_count": null,
   "metadata": {
    "id": "aH5i6qp9l995"
   },
   "outputs": [],
   "source": []
  },
  {
   "cell_type": "markdown",
   "metadata": {
    "id": "h3iFMkPWl995"
   },
   "source": [
    "## Evolution Method"
   ]
  },
  {
   "cell_type": "code",
   "execution_count": 3,
   "metadata": {
    "colab": {
     "base_uri": "https://localhost:8080/"
    },
    "id": "cT6ZwU6rl995",
    "outputId": "0e8631fe-1030-45c6-8519-7a49de1ea65b"
   },
   "outputs": [
    {
     "name": "stdout",
     "output_type": "stream",
     "text": [
      "Pure state in eigenbase:\n",
      "Mixed state in eigenbase:\n"
     ]
    },
    {
     "data": {
      "text/plain": [
       "0.9999999999999999"
      ]
     },
     "execution_count": 3,
     "metadata": {},
     "output_type": "execute_result"
    }
   ],
   "source": [
    "def rho_eigenbase(N, pure=False):\n",
    "    if pure:\n",
    "        # One diagonal is 1, else 0\n",
    "        rnum = np.random.randint(N)\n",
    "        rho = np.zeros(N)\n",
    "        rho[rnum] = 1\n",
    "        return np.diag(rho)\n",
    "    \n",
    "    # Mixed states\n",
    "    rho = np.random.uniform(size=N)\n",
    "    return np.diag(rho/np.sum(rho))\n",
    "\n",
    "# Check created matrices\n",
    "print('Pure state in eigenbase:')\n",
    "rho_eigenbase(3, pure=True)\n",
    "\n",
    "print('Mixed state in eigenbase:')\n",
    "mat = rho_eigenbase(3, pure=False)\n",
    "mat\n",
    "np.trace(mat)"
   ]
  },
  {
   "cell_type": "code",
   "execution_count": 4,
   "metadata": {
    "colab": {
     "base_uri": "https://localhost:8080/"
    },
    "id": "cn9d6v-7l996",
    "outputId": "6e648f5a-ba3c-4e9d-f02c-9a89fde7cb00"
   },
   "outputs": [
    {
     "data": {
      "text/plain": [
       "array([[ 1., -0., -0.],\n",
       "       [-0.,  1.,  0.],\n",
       "       [-0.,  0.,  1.]])"
      ]
     },
     "execution_count": 4,
     "metadata": {},
     "output_type": "execute_result"
    }
   ],
   "source": [
    "def create_unitary(N):\n",
    "    rand_mat = np.random.uniform(size=(N,N))\n",
    "    q, _ = np.linalg.qr(rand_mat)\n",
    "    return q, np.matrix(q).H \n",
    "\n",
    "# Check Unitarity\n",
    "U, U_dag = create_unitary(3)\n",
    "np.round( U.dot(U_dag), 10)\n",
    "    "
   ]
  },
  {
   "cell_type": "code",
   "execution_count": 5,
   "metadata": {
    "id": "90kOdZrBl996"
   },
   "outputs": [],
   "source": [
    "def rho_arbitrary(N, pure=False):\n",
    "    rho = rho_eigenbase(N, pure)\n",
    "    U, U_dag = create_unitary(N)\n",
    "    return( U.dot( rho.dot(U_dag)))\n",
    "\n",
    "\n",
    "# Check the generator\n",
    "for N in range(10):\n",
    "    rho = rho_arbitrary(N)\n",
    "\n",
    "    ## Check trace condition\n",
    "    assert np.abs( np.trace(rho)-1 ) < 1e10\n",
    "\n",
    "    ## Check Positivity\n",
    "    assert np.all(np.linalg.eigvals(rho) >= 0)\n"
   ]
  },
  {
   "cell_type": "code",
   "execution_count": null,
   "metadata": {},
   "outputs": [],
   "source": []
  }
 ],
 "metadata": {
  "interpreter": {
   "hash": "9e1189262ca0df3b9d8213bef524ce06e92d3334b6ddd6742255fbf78974bbcb"
  },
  "kernelspec": {
   "display_name": "Python 3.9.11 64-bit ('thenv')",
   "language": "python",
   "name": "python3"
  },
  "language_info": {
   "codemirror_mode": {
    "name": "ipython",
    "version": 3
   },
   "file_extension": ".py",
   "mimetype": "text/x-python",
   "name": "python",
   "nbconvert_exporter": "python",
   "pygments_lexer": "ipython3",
   "version": "3.9.11"
  },
  "orig_nbformat": 4
 },
 "nbformat": 4,
 "nbformat_minor": 2
}
