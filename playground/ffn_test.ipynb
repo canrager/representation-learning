{
  "cells": [
    {
      "cell_type": "code",
      "execution_count": 2,
      "metadata": {
        "id": "_Lsw8G9Vl99y"
      },
      "outputs": [],
      "source": [
        "# General Imports\n",
        "import numpy as np\n",
        "import csv\n",
        "from datetime import datetime as time\n",
        "import os\n",
        "\n",
        "# Plotting\n",
        "import matplotlib.pyplot as plt\n",
        "from matplotlib import cm\n",
        "from matplotlib.colors import Normalize\n",
        "# TeX Label Config\n",
        "import matplotlib as mpl\n",
        "mpl.rcParams.update({\n",
        "    'text.usetex': False,\n",
        "    'font.family': 'serif',\n",
        "    'font.serif': 'cmr10',\n",
        "    'mathtext.fontset': 'cm',\n",
        "    'font.family': 'STIXGeneral',\n",
        "    'font.size': 12,\n",
        "    'axes.unicode_minus': True,\n",
        "    'figure.autolayout': True,\n",
        "    'legend.fontsize': 'large'\n",
        "    })\n",
        "\n",
        "# Pytorch\n",
        "import torch\n",
        "import torch.nn as nn\n",
        "import torch.optim as optim\n",
        "from torch.utils.data import Dataset, DataLoader\n",
        "\n",
        "# Sklearn\n",
        "from sklearn.model_selection import train_test_split\n",
        "\n",
        "# tqdm for progress bar\n",
        "from tqdm import trange, tqdm\n",
        "\n",
        "# ipython config\n",
        "from IPython.core.interactiveshell import InteractiveShell\n",
        "InteractiveShell.ast_node_interactivity = \"all\""
      ]
    },
    {
      "cell_type": "code",
      "execution_count": 3,
      "metadata": {
        "colab": {
          "base_uri": "https://localhost:8080/"
        },
        "id": "jdqdRM8o55c6",
        "outputId": "38c86c18-b8a2-480f-c15d-e34a57434d4b"
      },
      "outputs": [
        {
          "data": {
            "text/plain": [
              "(1000, 3)"
            ]
          },
          "execution_count": 3,
          "metadata": {},
          "output_type": "execute_result"
        },
        {
          "data": {
            "text/plain": [
              "(1000, 3)"
            ]
          },
          "execution_count": 3,
          "metadata": {},
          "output_type": "execute_result"
        },
        {
          "data": {
            "text/plain": [
              "700"
            ]
          },
          "execution_count": 3,
          "metadata": {},
          "output_type": "execute_result"
        },
        {
          "data": {
            "text/plain": [
              "180"
            ]
          },
          "execution_count": 3,
          "metadata": {},
          "output_type": "execute_result"
        },
        {
          "data": {
            "text/plain": [
              "120"
            ]
          },
          "execution_count": 3,
          "metadata": {},
          "output_type": "execute_result"
        }
      ],
      "source": [
        "n_states = 1000\n",
        "X = np.array([np.random.uniform(low=-1, high=1, size=3) for _ in range(n_states)])\n",
        "y = X.copy()\n",
        "\n",
        "X_train, X_left, y_train, y_left = train_test_split(\n",
        "    X, y, test_size=0.3, random_state=42)\n",
        "\n",
        "X_valid, X_treasure, y_valid, y_treasure = train_test_split(\n",
        "    X_left, y_left, test_size=0.4, random_state=42)\n",
        "\n",
        "X.shape\n",
        "y.shape\n",
        "X_train.shape[0]\n",
        "X_valid.shape[0]\n",
        "X_treasure.shape[0]"
      ]
    },
    {
      "cell_type": "code",
      "execution_count": 4,
      "metadata": {},
      "outputs": [
        {
          "data": {
            "text/plain": [
              "array([0, 0, 0])"
            ]
          },
          "execution_count": 4,
          "metadata": {},
          "output_type": "execute_result"
        }
      ],
      "source": [
        "sum((X - y) > 1e-10)"
      ]
    },
    {
      "cell_type": "markdown",
      "metadata": {},
      "source": [
        "X and y are identical"
      ]
    },
    {
      "cell_type": "code",
      "execution_count": 5,
      "metadata": {
        "id": "d6qaqKYysM99"
      },
      "outputs": [],
      "source": [
        "class CustomDataset(Dataset):\n",
        "\n",
        "  def __init__(self, X, Y):\n",
        "        self.X = torch.from_numpy(X).float()\n",
        "        self.Y = torch.from_numpy(Y).float()\n",
        "\n",
        "  def __len__(self):\n",
        "        return self.X.shape[0]\n",
        "\n",
        "  def __getitem__(self, index):\n",
        "        # Select sample\n",
        "        X = self.X[index]\n",
        "\n",
        "        # Load data and get label\n",
        "        x = self.X[index]\n",
        "        y = self.Y[index]\n",
        "\n",
        "        return x, y"
      ]
    },
    {
      "cell_type": "code",
      "execution_count": 6,
      "metadata": {
        "id": "lhgNMxXFw-EP"
      },
      "outputs": [],
      "source": [
        "tomography_train_dataset = CustomDataset(X_train, y_train)\n",
        "tomography_valid_dataset = CustomDataset(X_valid, y_valid)\n",
        "tomography_treasure_dataset = CustomDataset(X_treasure, y_treasure)"
      ]
    },
    {
      "cell_type": "code",
      "execution_count": 7,
      "metadata": {
        "id": "4GQSr4g0xUBP"
      },
      "outputs": [],
      "source": [
        "# Define the batch sizes\n",
        "BATCH_SIZE = 32\n",
        "\n",
        "# Create data loaders from the datasets for the current task\n",
        "# Shuffle not necessary as samples are generated at random\n",
        "# Setting drop_last=True does not consider the last batch in which there are less than BATCH_SIZE examples\n",
        "tomography_train_dataloader = DataLoader(tomography_train_dataset, batch_size=BATCH_SIZE, shuffle=False, drop_last=True)\n",
        "tomography_vaild_dataloader = DataLoader(tomography_valid_dataset, batch_size=BATCH_SIZE, shuffle=False, drop_last=True)"
      ]
    },
    {
      "cell_type": "markdown",
      "metadata": {
        "id": "f49OO7AUx5XL"
      },
      "source": [
        "Feed Forward Neural Network"
      ]
    },
    {
      "cell_type": "code",
      "execution_count": 8,
      "metadata": {
        "colab": {
          "base_uri": "https://localhost:8080/"
        },
        "id": "xIEOe6Bgxn-S",
        "outputId": "0d5dd124-897d-4d37-ab04-1b84b253f988"
      },
      "outputs": [],
      "source": [
        "class FeedForwardNet(nn.Module):\n",
        "\n",
        "  def __init__(self):\n",
        "    super().__init__()\n",
        "\n",
        "    self.layers = nn.Sequential(\n",
        "    nn.Linear(3, 16),\n",
        "    nn.ReLU(),\n",
        "    nn.Linear(16,32),\n",
        "    nn.ReLU(),\n",
        "    nn.Linear(32,16),\n",
        "    nn.ReLU(),\n",
        "    nn.Linear(16,3),\n",
        "    )\n",
        "\n",
        "  def forward(self, x):\n",
        "    return self.layers(x)"
      ]
    },
    {
      "cell_type": "code",
      "execution_count": 9,
      "metadata": {
        "id": "1HGKyh1X1kpx"
      },
      "outputs": [],
      "source": [
        "# Function for training the network\n",
        "def train(net, n_epochs, train_dataloader, optimizer, criterion):\n",
        "    net.train()\n",
        "    \n",
        "    losses = np.array([])\n",
        "\n",
        "    for epoch in trange(n_epochs):\n",
        "\n",
        "        for batch_idx, samples in enumerate(train_dataloader):\n",
        "            data, target = samples[0].to(device), samples[1].to(device)\n",
        "            # Optimize parameters\n",
        "            net.zero_grad()\n",
        "            outputs = net(data)\n",
        "            loss = criterion(outputs, target)\n",
        "            loss.backward()\n",
        "            optimizer.step()\n",
        "            losses = np.append(losses, loss.clone().detach().cpu().numpy())\n",
        "\n",
        "    return losses"
      ]
    },
    {
      "cell_type": "code",
      "execution_count": 14,
      "metadata": {
        "colab": {
          "base_uri": "https://localhost:8080/"
        },
        "id": "B1SSl2G3g_KM",
        "outputId": "d324c6c7-ad11-40a1-b981-7a4b025754a6"
      },
      "outputs": [
        {
          "name": "stdout",
          "output_type": "stream",
          "text": [
            "cpu\n"
          ]
        },
        {
          "name": "stderr",
          "output_type": "stream",
          "text": [
            "100%|██████████| 400/400 [00:02<00:00, 143.69it/s]\n"
          ]
        }
      ],
      "source": [
        "# Check if the GPU is available\n",
        "device = torch.device(\"cuda:0\" if torch.cuda.is_available() else \"cpu\")\n",
        "print(device)\n",
        "\n",
        "# Create the network on the CPU/GPU\n",
        "net = FeedForwardNet().to(device)\n",
        "\n",
        "# Loss function and optimizer\n",
        "criterion = nn.MSELoss()\n",
        "optimizer = optim.SGD(net.parameters(), lr=0.01)\n",
        "\n",
        "losses = train(net, 400, tomography_train_dataloader, optimizer, criterion)"
      ]
    },
    {
      "cell_type": "code",
      "execution_count": 15,
      "metadata": {
        "colab": {
          "base_uri": "https://localhost:8080/",
          "height": 329
        },
        "id": "U4U4VN6Oi8fr",
        "outputId": "47dae4e8-5173-4bc8-a061-83c4fd1e6eea"
      },
      "outputs": [
        {
          "data": {
            "image/png": "[encoded data removed]",
            "text/plain": [
              "<Figure size 720x288 with 1 Axes>"
            ]
          },
          "metadata": {
            "needs_background": "light"
          },
          "output_type": "display_data"
        }
      ],
      "source": [
        "a=plt.figure(figsize=(10,4))\n",
        "a=plt.plot(losses, lw=2, label='Training Loss')\n",
        "a=plt.xlabel('Iterations')\n",
        "a=plt.ylabel('Loss')\n",
        "a=plt.legend()\n",
        "a=plt.title('Tomography Dataset Loss over Iterations')"
      ]
    },
    {
      "cell_type": "markdown",
      "metadata": {
        "id": "bP8nG_6ZHRzh"
      },
      "source": [
        "# Inference"
      ]
    },
    {
      "cell_type": "code",
      "execution_count": 282,
      "metadata": {},
      "outputs": [
        {
          "data": {
            "text/plain": [
              "array([-0.06072047,  0.01387239, -0.0044459 ])"
            ]
          },
          "execution_count": 282,
          "metadata": {},
          "output_type": "execute_result"
        },
        {
          "data": {
            "text/plain": [
              "array([-0.00817471, -0.00525232, -0.00833925], dtype=float32)"
            ]
          },
          "execution_count": 282,
          "metadata": {},
          "output_type": "execute_result"
        }
      ],
      "source": [
        "rho_orig = random_mixed_bloch()\n",
        "measurement = torch.Tensor(perform_measurements(bloch2mat(rho_orig), data_obs))\n",
        "rho_pred = net.forward(measurement.to(device)).detach().cpu().numpy()\n",
        "\n",
        "rho_orig\n",
        "rho_pred"
      ]
    },
    {
      "cell_type": "code",
      "execution_count": 262,
      "metadata": {
        "colab": {
          "base_uri": "https://localhost:8080/"
        },
        "id": "oD21pVaMGr5D",
        "outputId": "2e08307e-17a6-4f22-973d-6f8eaeb221dd"
      },
      "outputs": [
        {
          "name": "stdout",
          "output_type": "stream",
          "text": [
            "[ 0.88771397 -0.2667599  -0.2667599   0.11228603]\n"
          ]
        },
        {
          "ename": "ValueError",
          "evalue": "cannot reshape array of size 3 into shape (4,)",
          "output_type": "error",
          "traceback": [
            "\u001b[0;31m---------------------------------------------------------------------------\u001b[0m",
            "\u001b[0;31mValueError\u001b[0m                                Traceback (most recent call last)",
            "\u001b[1;32m/Users/canrager/thesis/tomography_lossbloch.ipynb Cell 36'\u001b[0m in \u001b[0;36m<cell line: 6>\u001b[0;34m()\u001b[0m\n\u001b[1;32m      <a href='vscode-notebook-cell:/Users/canrager/thesis/tomography_lossbloch.ipynb#ch0000033?line=2'>3</a>\u001b[0m rho_pred \u001b[39m=\u001b[39m net\u001b[39m.\u001b[39mforward(measurement\u001b[39m.\u001b[39mto(device))\u001b[39m.\u001b[39mdetach()\u001b[39m.\u001b[39mcpu()\u001b[39m.\u001b[39mnumpy()\n\u001b[1;32m      <a href='vscode-notebook-cell:/Users/canrager/thesis/tomography_lossbloch.ipynb#ch0000033?line=4'>5</a>\u001b[0m \u001b[39mprint\u001b[39m(rho_orig\u001b[39m.\u001b[39mreshape(\u001b[39m4\u001b[39m))\n\u001b[0;32m----> <a href='vscode-notebook-cell:/Users/canrager/thesis/tomography_lossbloch.ipynb#ch0000033?line=5'>6</a>\u001b[0m \u001b[39mprint\u001b[39m(rho_pred\u001b[39m.\u001b[39;49mreshape(\u001b[39m4\u001b[39;49m))\n\u001b[1;32m      <a href='vscode-notebook-cell:/Users/canrager/thesis/tomography_lossbloch.ipynb#ch0000033?line=6'>7</a>\u001b[0m fig, axs \u001b[39m=\u001b[39m plt\u001b[39m.\u001b[39msubplots(\u001b[39m1\u001b[39m,\u001b[39m2\u001b[39m, figsize\u001b[39m=\u001b[39m(\u001b[39m10\u001b[39m,\u001b[39m4\u001b[39m))\n\u001b[1;32m      <a href='vscode-notebook-cell:/Users/canrager/thesis/tomography_lossbloch.ipynb#ch0000033?line=7'>8</a>\u001b[0m a\u001b[39m=\u001b[39maxs[\u001b[39m0\u001b[39m]\u001b[39m.\u001b[39mimshow(rho_orig, vmin\u001b[39m=\u001b[39m\u001b[39m0\u001b[39m, vmax\u001b[39m=\u001b[39m\u001b[39m1\u001b[39m)\n",
            "\u001b[0;31mValueError\u001b[0m: cannot reshape array of size 3 into shape (4,)"
          ]
        }
      ],
      "source": [
        "rho_orig = np.real(bloch2mat(random_mixed_bloch()))\n",
        "measurement = torch.Tensor(perform_measurements(rho_orig, data_obs))\n",
        "rho_pred = net.forward(measurement.to(device)).detach().cpu().numpy()\n",
        "\n",
        "print(rho_orig.reshape(4))\n",
        "print(rho_pred.reshape(4))\n",
        "fig, axs = plt.subplots(1,2, figsize=(10,4))\n",
        "a=axs[0].imshow(rho_orig, vmin=0, vmax=1)\n",
        "a=axs[0].set_title('$\\\\rho$ original')\n",
        "a=axs[1].set_title('$\\\\rho$ prediction')\n",
        "a=axs[1].imshow(rho_pred, vmin=0, vmax=1)\n",
        "a=fig.colorbar(a)"
      ]
    },
    {
      "cell_type": "markdown",
      "metadata": {},
      "source": [
        "Lernt nur den Durchschnitt!"
      ]
    },
    {
      "cell_type": "markdown",
      "metadata": {},
      "source": [
        "Verbesserungsansätze: \n",
        "- netzwerk vergrößern\n",
        "  - nichts gebracht\n",
        "- andere loss function mit mehr gewicht für outliers\n",
        "  - bereits MSE verwendet, was mehr weight auf outliers gibt as MAE=L1, konvergiert bei 0.02 training loss\n",
        "  - MAE bringt nichts, resultiert in 0.7 training loss\n",
        "- berücksichtigen, dass information auf offdiagonaler redundant ist\n",
        "  - siehe neues notebook error von bloch vektoren"
      ]
    },
    {
      "cell_type": "markdown",
      "metadata": {},
      "source": [
        "Briegel fragen was genau es bringt im AE nicht über die dichtematrix zu gehen sondern direkt auf kompakteste repräsentation zu lernen."
      ]
    },
    {
      "cell_type": "code",
      "execution_count": null,
      "metadata": {},
      "outputs": [
        {
          "data": {
            "text/plain": [
              "array([2.96389626, 1.73596508, 1.16719767, 1.11422471, 2.79862357,\n",
              "       2.35721398, 3.93870914, 1.08933727, 3.87450093, 2.80199897,\n",
              "       3.45478582, 3.46806942, 2.05828875, 1.17761769, 3.63073728,\n",
              "       2.28366101, 2.51618012, 3.69455026, 0.78492579, 3.73850266,\n",
              "       3.32340991, 1.68444666, 3.32616995, 1.69974554, 0.87992278,\n",
              "       3.93054026, 1.52805315, 2.95671699, 0.42796306, 0.78407417,\n",
              "       2.90195964, 3.0944868 , 1.70316047, 1.52801833, 0.89463666,\n",
              "       2.32060716, 2.75311762, 2.79046422, 0.25092932, 3.01100054,\n",
              "       0.11780293, 3.05798942, 2.90091635, 1.48425788, 2.59827939,\n",
              "       0.57603278, 1.8565093 , 2.22856851, 2.30753899, 0.83030343,\n",
              "       0.00450815, 3.00708237, 3.93136616, 1.06596202, 0.43366389,\n",
              "       0.58625285, 2.73280636, 0.48712994, 2.05292224, 1.72184533,\n",
              "       2.81807684, 2.82042757, 3.4829603 , 1.13573099, 3.59716792,\n",
              "       2.29971685, 0.16469145, 2.85345621, 3.88961335, 2.896654  ,\n",
              "       3.62849564, 1.67901004, 3.41455596, 1.74269363, 3.79929565,\n",
              "       0.21751772, 1.42906986, 0.24944732, 0.18923781, 1.87922245,\n",
              "       3.2265456 , 0.42720572, 2.97295482, 2.329958  , 1.8081111 ,\n",
              "       0.23943064, 1.64350865, 2.73736786, 3.78498283, 1.07480424,\n",
              "       2.1222303 , 0.37723602, 2.37339855, 1.92506551, 3.13352399,\n",
              "       0.46187098, 1.35212641, 3.20054276, 1.30853882, 2.87795458])"
            ]
          },
          "execution_count": 237,
          "metadata": {},
          "output_type": "execute_result"
        },
        {
          "data": {
            "text/plain": [
              "array([0.26867795, 0.30074934, 2.39611794, 1.1476739 , 1.22020531,\n",
              "       1.55605514, 3.68419356, 1.65704712, 1.63337846, 1.3722961 ,\n",
              "       3.56560137, 2.6224129 , 2.01070269, 2.80071181, 0.29997742,\n",
              "       1.78940427, 3.51051516, 2.17709476, 3.41081933, 2.15520163,\n",
              "       0.63391747, 2.36973307, 0.11544576, 1.49322091, 1.69989613,\n",
              "       0.31237659, 2.14538843, 0.19008319, 0.52192266, 3.50600615,\n",
              "       2.72260254, 0.98631097, 3.52336013, 2.94008889, 1.15216547,\n",
              "       3.03416411, 3.92298049, 3.86697789, 2.33750238, 3.87374848,\n",
              "       2.19543175, 1.92430195, 1.26644586, 0.70927637, 2.2154165 ,\n",
              "       2.7049417 , 0.10715601, 3.84229066, 0.27570694, 1.28032469,\n",
              "       3.78968639, 2.58013421, 0.3033705 , 1.10081229, 1.76426388,\n",
              "       1.03640905, 2.05545748, 3.32411982, 1.27921449, 1.04648534,\n",
              "       2.06128637, 1.2156759 , 0.6373917 , 3.1302815 , 1.93064114,\n",
              "       2.88144918, 3.78890452, 0.40856341, 1.6140164 , 1.67637081,\n",
              "       1.54768078, 0.30113711, 1.83859163, 2.08235783, 1.17093003,\n",
              "       0.16728179, 3.81539878, 1.67221226, 0.22273208, 2.27703304,\n",
              "       0.41712535, 3.42968084, 2.45041076, 0.54060351, 2.5512463 ,\n",
              "       1.08833545, 2.71330463, 1.52842813, 0.71666781, 3.02356611,\n",
              "       2.67021775, 3.34284619, 0.86161157, 0.85654095, 1.64208999,\n",
              "       2.41884575, 0.69850312, 2.31380385, 0.41964749, 1.07318039])"
            ]
          },
          "execution_count": 237,
          "metadata": {},
          "output_type": "execute_result"
        }
      ],
      "source": [
        "x, y = np.random.rand(2, 100) * 4\n",
        "x\n",
        "y"
      ]
    },
    {
      "cell_type": "code",
      "execution_count": null,
      "metadata": {},
      "outputs": [],
      "source": []
    }
  ],
  "metadata": {
    "accelerator": "GPU",
    "colab": {
      "name": "density_gen.ipynb",
      "provenance": []
    },
    "interpreter": {
      "hash": "7439760cf7d2aa9049b62431f25e4b3ea37b06f2d15d50054f5ed677eb6950d7"
    },
    "kernelspec": {
      "display_name": "Python 3.10.0 64-bit ('3.10.0')",
      "language": "python",
      "name": "python3"
    },
    "language_info": {
      "codemirror_mode": {
        "name": "ipython",
        "version": 3
      },
      "file_extension": ".py",
      "mimetype": "text/x-python",
      "name": "python",
      "nbconvert_exporter": "python",
      "pygments_lexer": "ipython3",
      "version": "3.9.11"
    },
    "orig_nbformat": 4
  },
  "nbformat": 4,
  "nbformat_minor": 0
}
