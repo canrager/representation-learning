{
 "cells": [
  {
   "cell_type": "code",
   "execution_count": 58,
   "metadata": {},
   "outputs": [],
   "source": [
    "import numpy as np\n",
    "import matplotlib.pyplot as plt\n",
    "\n",
    "from IPython.core.interactiveshell import InteractiveShell\n",
    "InteractiveShell.ast_node_interactivity = \"all\""
   ]
  },
  {
   "cell_type": "markdown",
   "metadata": {},
   "source": [
    "# Mixed State Generator"
   ]
  },
  {
   "cell_type": "markdown",
   "metadata": {},
   "source": [
    "## Partial Trace Method \n",
    "N=4, pure ---> N=2, mixed\n",
    "\n",
    "1. Create a **random pure state** vector for the combined system (N=4, linearcombination of random basis with random coeffs)\n",
    "2. Create a 4x4 **density matrix** from random state vector above\n",
    "3. Perform **partial trace** on any 2x2 base (resulting mixed 2x2 density matrix is independent of the chosen base traced over)"
   ]
  },
  {
   "cell_type": "code",
   "execution_count": null,
   "metadata": {},
   "outputs": [],
   "source": [
    "# Positive semi-definiteness condition\n",
    "    # eigvals = np.linalg.eigvals(rho)\n",
    "    # if not np.all(eigvals >= -1e10):\n",
    "    #     print('recursive', eigvals)\n",
    "    #     return create_pure_rho(nqubits)"
   ]
  },
  {
   "cell_type": "code",
   "execution_count": 59,
   "metadata": {},
   "outputs": [
    {
     "data": {
      "text/plain": [
       "array([[0.27359421, 0.92458535, 0.7548901 , 0.84353209],\n",
       "       [0.86661725, 0.19520379, 0.30075583, 0.00651686],\n",
       "       [0.81796008, 0.65699117, 0.37576966, 0.77879722],\n",
       "       [0.74684248, 0.54130472, 0.95860731, 0.23041719]])"
      ]
     },
     "execution_count": 59,
     "metadata": {},
     "output_type": "execute_result"
    }
   ],
   "source": [
    "np.random.uniform(size=(4,4))"
   ]
  },
  {
   "cell_type": "code",
   "execution_count": 60,
   "metadata": {},
   "outputs": [
    {
     "data": {
      "text/plain": [
       "array([[0.18692272, 0.28656388, 0.15000764, 0.19635436],\n",
       "       [0.28656388, 0.45312338, 0.22295518, 0.31061815],\n",
       "       [0.15000764, 0.22295518, 0.13370218, 0.15040043],\n",
       "       [0.19635436, 0.31061815, 0.15040043, 0.22625172]])"
      ]
     },
     "execution_count": 60,
     "metadata": {},
     "output_type": "execute_result"
    },
    {
     "data": {
      "text/plain": [
       "0.9999999999999999"
      ]
     },
     "execution_count": 60,
     "metadata": {},
     "output_type": "execute_result"
    }
   ],
   "source": [
    "def create_invertible():\n",
    "    mat = np.random.uniform(size=(4,4))\n",
    "    if np.abs(np.linalg.det(mat)) < 1e-10:     # eps to avoid rounding errors\n",
    "        return create_invertible()\n",
    "    return mat\n",
    "\n",
    "def create_combined_pure():\n",
    "    basis = create_invertible()\n",
    "    coeffs = np.random.uniform(size=4)\n",
    "    coeffs = coeffs / np.sum(coeffs)\n",
    "\n",
    "    rho = np.zeros((4,4))\n",
    "    for i, vec in enumerate(basis):\n",
    "        vec = vec / np.linalg.norm(vec)\n",
    "        rho += coeffs[i] * np.outer( vec, vec)\n",
    "    return rho\n",
    "\n",
    "# Test\n",
    "A = create_combined_pure()\n",
    "A\n",
    "np.trace(A)\n",
    "\n"
   ]
  },
  {
   "cell_type": "code",
   "execution_count": 61,
   "metadata": {},
   "outputs": [
    {
     "data": {
      "text/plain": [
       "array([[0.62964981, 0.39288748],\n",
       "       [0.39288748, 0.37035019]])"
      ]
     },
     "execution_count": 61,
     "metadata": {},
     "output_type": "execute_result"
    }
   ],
   "source": [
    "def partial_trace(rho, basis=np.array([[1,0], [0,1]])):\n",
    "    #trace is performed on traced basis\n",
    "    reduced = np.zeros((2,2))\n",
    "    for i in range(2):\n",
    "        bra = np.kron(np.eye(2), basis[i])\n",
    "        reduced += bra.dot(rho.dot(bra.T))\n",
    "    return reduced\n",
    "\n",
    "# Test\n",
    "partial_trace(create_combined_pure(), basis=np.array([[1,0], [0,1]]))\n",
    "\n"
   ]
  },
  {
   "cell_type": "code",
   "execution_count": 75,
   "metadata": {},
   "outputs": [
    {
     "name": "stdout",
     "output_type": "stream",
     "text": [
      "combined system\n",
      " [[0.25156714 0.23505975 0.13411604 0.21146494]\n",
      " [0.23505975 0.27465472 0.19177191 0.27881752]\n",
      " [0.13411604 0.19177191 0.15435337 0.20753228]\n",
      " [0.21146494 0.27881752 0.20753228 0.31942477]]\n",
      "\n",
      "reduced system\n",
      " [[0.52622186 0.41293356]\n",
      " [0.41293356 0.47377814]]\n"
     ]
    },
    {
     "data": {
      "text/plain": [
       "0.8424034297580758"
      ]
     },
     "execution_count": 75,
     "metadata": {},
     "output_type": "execute_result"
    }
   ],
   "source": [
    "combined = create_combined_pure()\n",
    "print('combined system\\n', combined)\n",
    "\n",
    "reduced = partial_trace(combined, basis=np.array([[1,0], [0,1]]))\n",
    "print('\\nreduced system\\n', reduced)\n",
    "\n",
    "np.trace(reduced.dot(reduced))\n"
   ]
  },
  {
   "cell_type": "code",
   "execution_count": 76,
   "metadata": {},
   "outputs": [],
   "source": [
    "# Define Wrapper function\n",
    "\n",
    "def random_mixed_1qubit():\n",
    "    ket = partial_trace(create_combined_pure())\n",
    "    return ket.dot(ket)"
   ]
  },
  {
   "cell_type": "markdown",
   "metadata": {},
   "source": [
    "#### Not used"
   ]
  },
  {
   "cell_type": "code",
   "execution_count": 64,
   "metadata": {},
   "outputs": [
    {
     "name": "stdout",
     "output_type": "stream",
     "text": [
      "theta = 2.7343323752455455\n"
     ]
    },
    {
     "data": {
      "image/png": "[encoded data removed]",
      "text/plain": [
       "<Figure size 432x288 with 1 Axes>"
      ]
     },
     "metadata": {
      "needs_background": "light"
     },
     "output_type": "display_data"
    },
    {
     "data": {
      "text/plain": [
       "<Figure size 432x432 with 0 Axes>"
      ]
     },
     "metadata": {},
     "output_type": "display_data"
    }
   ],
   "source": [
    "\n",
    "def randONB2d():\n",
    "    theta = np.random.uniform() * 2*np.pi\n",
    "    print(f'theta = {theta}')\n",
    "    vec1 = np.array([np.cos(theta), np.sin(theta)])\n",
    "    vec2 = np.array([-vec1[1], vec1[0]])\n",
    "    return np.array([vec1, vec2])\n",
    "\n",
    "basis = randONB2d()\n",
    "plt.scatter(basis[:,0], basis[:,1])\n",
    "plt.scatter(-basis[:,0], -basis[:,1])\n",
    "plt.scatter(0,0)\n",
    "plt.grid()\n",
    "plt.figure(figsize=(6,6));"
   ]
  },
  {
   "cell_type": "code",
   "execution_count": null,
   "metadata": {},
   "outputs": [],
   "source": []
  },
  {
   "cell_type": "markdown",
   "metadata": {},
   "source": [
    "## Evolution Method"
   ]
  },
  {
   "cell_type": "code",
   "execution_count": 65,
   "metadata": {},
   "outputs": [
    {
     "name": "stdout",
     "output_type": "stream",
     "text": [
      "Pure state in eigenbase:\n"
     ]
    },
    {
     "data": {
      "text/plain": [
       "array([[1., 0., 0.],\n",
       "       [0., 0., 0.],\n",
       "       [0., 0., 0.]])"
      ]
     },
     "execution_count": 65,
     "metadata": {},
     "output_type": "execute_result"
    },
    {
     "name": "stdout",
     "output_type": "stream",
     "text": [
      "Mixed state in eigenbase:\n"
     ]
    },
    {
     "data": {
      "text/plain": [
       "array([[0.09873932, 0.        , 0.        ],\n",
       "       [0.        , 0.47141058, 0.        ],\n",
       "       [0.        , 0.        , 0.4298501 ]])"
      ]
     },
     "execution_count": 65,
     "metadata": {},
     "output_type": "execute_result"
    },
    {
     "data": {
      "text/plain": [
       "1.0"
      ]
     },
     "execution_count": 65,
     "metadata": {},
     "output_type": "execute_result"
    }
   ],
   "source": [
    "def rho_eigenbase(N, pure=False):\n",
    "    if pure:\n",
    "        # One diagonal is 1, else 0\n",
    "        rnum = np.random.randint(N)\n",
    "        rho = np.zeros(N)\n",
    "        rho[rnum] = 1\n",
    "        return np.diag(rho)\n",
    "    \n",
    "    # Mixed states\n",
    "    rho = np.random.uniform(size=N)\n",
    "    return np.diag(rho/np.sum(rho))\n",
    "\n",
    "# Check created matrices\n",
    "print('Pure state in eigenbase:')\n",
    "rho_eigenbase(3, pure=True)\n",
    "\n",
    "print('Mixed state in eigenbase:')\n",
    "mat = rho_eigenbase(3, pure=False)\n",
    "mat\n",
    "np.trace(mat)"
   ]
  },
  {
   "cell_type": "code",
   "execution_count": 66,
   "metadata": {},
   "outputs": [
    {
     "data": {
      "text/plain": [
       "array([[ 1.,  0., -0.],\n",
       "       [ 0.,  1., -0.],\n",
       "       [-0., -0.,  1.]])"
      ]
     },
     "execution_count": 66,
     "metadata": {},
     "output_type": "execute_result"
    }
   ],
   "source": [
    "def create_unitary(N):\n",
    "    rand_mat = np.random.uniform(size=(N,N))\n",
    "    q, _ = np.linalg.qr(rand_mat)\n",
    "    return q, np.matrix(q).H \n",
    "\n",
    "# Check Unitarity\n",
    "U, U_dag = create_unitary(3)\n",
    "np.round( U.dot(U_dag), 10)\n",
    "    "
   ]
  },
  {
   "cell_type": "markdown",
   "metadata": {},
   "source": [
    "### Find random 4D basis"
   ]
  },
  {
   "cell_type": "code",
   "execution_count": null,
   "metadata": {},
   "outputs": [],
   "source": [
    "\n",
    "\n",
    "def create_invertible():\n",
    "    mat = np.random.uniform(low=-1, high=1, size=(4,4)) #   +  1j * np.random.uniform(low=-1, high=1, size=(4,4))   # or complex??\n",
    "    if np.abs(np.linalg.det(mat)) < 1e-10:     # eps to avoid rounding errors\n",
    "        return create_invertible()\n",
    "    return mat\n",
    "\n",
    "def create_unitary(N):\n",
    "    rand_mat = np.random.uniform(size=(N,N)) + 1j * np.random.uniform(size=(N,N))\n",
    "    q, _ = np.linalg.qr(rand_mat)\n",
    "    return q, np.matrix(q).H \n",
    "\n",
    "U, Udag = create_unitary(4)\n",
    "(U.dot(Udag) - np.eye(4)) < 1e10"
   ]
  },
  {
   "cell_type": "code",
   "execution_count": 67,
   "metadata": {},
   "outputs": [],
   "source": [
    "def rho_arbitrary(N, pure=False):\n",
    "    rho = rho_eigenbase(N, pure)\n",
    "    U, U_dag = create_unitary(N)\n",
    "    return( U.dot( rho.dot(U_dag)))\n",
    "\n",
    "\n",
    "# Check the generator\n",
    "for N in range(10):\n",
    "    rho = rho_arbitrary(N)\n",
    "\n",
    "    ## Check trace condition\n",
    "    assert np.abs( np.trace(rho)-1 ) < 1e10\n",
    "\n",
    "    ## Check Positivity\n",
    "    assert np.all(np.linalg.eigvals(rho) >= 0)\n"
   ]
  },
  {
   "cell_type": "markdown",
   "metadata": {},
   "source": [
    "# 1-Qubit Measurement"
   ]
  },
  {
   "cell_type": "markdown",
   "metadata": {},
   "source": [
    "Habe ich mit bloch vektoren alle möglichen observablen abgedeckt?"
   ]
  },
  {
   "cell_type": "markdown",
   "metadata": {},
   "source": [
    "State Tomography: How many measurements are needed to correctly identify the state? 3^n for pure\n",
    "\n",
    "For 1-Qubit: 3 Measurements are needed\n",
    "--> Bloch vector\n",
    "\n",
    "Simple Approach: make much more measurements: 100\n",
    "\n",
    "1. generate Random vectors m to measure along\n",
    "2. measure along each m very often"
   ]
  },
  {
   "cell_type": "code",
   "execution_count": 102,
   "metadata": {},
   "outputs": [
    {
     "data": {
      "text/plain": [
       "array([[0.42649714, 0.31406804],\n",
       "       [0.31406804, 0.28131871]])"
      ]
     },
     "execution_count": 102,
     "metadata": {},
     "output_type": "execute_result"
    },
    {
     "data": {
      "text/plain": [
       "0.7078158504151388"
      ]
     },
     "execution_count": 102,
     "metadata": {},
     "output_type": "execute_result"
    }
   ],
   "source": [
    "rho = random_mixed_1qubit()\n",
    "rho\n",
    "np.trace(rho)"
   ]
  },
  {
   "cell_type": "code",
   "execution_count": 123,
   "metadata": {},
   "outputs": [
    {
     "data": {
      "text/plain": [
       "(1+0j)"
      ]
     },
     "execution_count": 123,
     "metadata": {},
     "output_type": "execute_result"
    }
   ],
   "source": [
    "def bloch2mat(vec):\n",
    "    assert vec.shape[0] == 3\n",
    "    s1 = np.matrix([[0,1],[1,0]])\n",
    "    s2 = np.matrix([[0,-1j],[1j,0]])\n",
    "    s3 = np.matrix([[1,0],[0,-1]])\n",
    "\n",
    "    r_sig = vec[0] * s1 + vec[1] * s2 + vec[2] * s3\n",
    "\n",
    "    return (np.eye(2) + r_sig) /2\n",
    "\n",
    "def random_pure_1qubit():\n",
    "    vec = np.random.uniform(size=3)\n",
    "    vec = vec / np.sum(vec)\n",
    "    return bloch2mat(vec)\n",
    "\n",
    "plt.plot(0.0)\n",
    "\n",
    "np.trace(random_pure_1qubit())\n"
   ]
  },
  {
   "cell_type": "code",
   "execution_count": 143,
   "metadata": {},
   "outputs": [
    {
     "name": "stderr",
     "output_type": "stream",
     "text": [
      "/var/folders/tn/nyh0947d6sngjfvtp7hbb0jr0000gn/T/ipykernel_13923/2435236254.py:5: ComplexWarning: Casting complex values to real discards the imaginary part\n",
      "  measurements.astype('float')\n"
     ]
    },
    {
     "data": {
      "text/plain": [
       "array([0.52344108, 0.50240809, 0.46956594, 0.40314906, 0.49056638,\n",
       "       0.51607291, 0.43303976, 0.54837327, 0.46689698, 0.5052663 ,\n",
       "       0.44373833, 0.50573743, 0.46717316, 0.41167267, 0.48291735,\n",
       "       0.51085987, 0.55317235, 0.50535415, 0.49235587, 0.50989331,\n",
       "       0.49004823, 0.48823586, 0.43476592, 0.42811715, 0.50359303,\n",
       "       0.45337383, 0.49692556, 0.50528809, 0.42856551, 0.52842929,\n",
       "       0.53203745, 0.58531766, 0.42710705, 0.496427  , 0.45390841,\n",
       "       0.46749189, 0.38136378, 0.42386976, 0.39834327, 0.54473311,\n",
       "       0.45578699, 0.49664059, 0.49846916, 0.48882868, 0.39771417,\n",
       "       0.5977213 , 0.48092611, 0.42226933, 0.51795426, 0.44098879,\n",
       "       0.42972063, 0.49236867, 0.48249766, 0.51944302, 0.42008591,\n",
       "       0.43875123, 0.53980775, 0.4664523 , 0.45366856, 0.45979775,\n",
       "       0.54493595, 0.38213869, 0.53402597, 0.42950479, 0.41072103,\n",
       "       0.51666457, 0.52691317, 0.46333365, 0.45711813, 0.475425  ,\n",
       "       0.49782042, 0.53417912, 0.59470391, 0.5813761 , 0.50798298,\n",
       "       0.39837064, 0.50189814, 0.59901575, 0.41871941, 0.4502212 ,\n",
       "       0.43643092, 0.52367107, 0.40810927, 0.50586398, 0.42027969,\n",
       "       0.42125861, 0.52839688, 0.50554951, 0.46084338, 0.49006855,\n",
       "       0.41225148, 0.43504356, 0.48248836, 0.44539333, 0.55164725,\n",
       "       0.42384575, 0.48863167, 0.53723972, 0.51988835, 0.43590988])"
      ]
     },
     "execution_count": 143,
     "metadata": {},
     "output_type": "execute_result"
    },
    {
     "data": {
      "text/plain": [
       "array([0.52344108+0.j, 0.50240809+0.j, 0.46956594+0.j, 0.40314906+0.j,\n",
       "       0.49056638+0.j])"
      ]
     },
     "execution_count": 143,
     "metadata": {},
     "output_type": "execute_result"
    },
    {
     "data": {
      "text/plain": [
       "(0.47967368804405197+0j)"
      ]
     },
     "execution_count": 143,
     "metadata": {},
     "output_type": "execute_result"
    },
    {
     "data": {
      "text/plain": [
       "0.05033943245876593"
      ]
     },
     "execution_count": 143,
     "metadata": {},
     "output_type": "execute_result"
    }
   ],
   "source": [
    "# Generate random measurements \n",
    "m_amt = 100\n",
    "observables = np.array([random_pure_1qubit() for _ in range(m_amt)])\n",
    "measurements = np.array([np.trace(observables[i].dot(rho)) for i in range(m_amt)])\n",
    "measurements.astype('float')\n",
    "\n",
    "measurements.mean()\n",
    "measurements.std()"
   ]
  },
  {
   "cell_type": "code",
   "execution_count": 144,
   "metadata": {},
   "outputs": [
    {
     "ename": "ModuleNotFoundError",
     "evalue": "No module named 'torch'",
     "output_type": "error",
     "traceback": [
      "\u001b[0;31m---------------------------------------------------------------------------\u001b[0m",
      "\u001b[0;31mModuleNotFoundError\u001b[0m                       Traceback (most recent call last)",
      "\u001b[0;32m/var/folders/tn/nyh0947d6sngjfvtp7hbb0jr0000gn/T/ipykernel_13923/4265195184.py\u001b[0m in \u001b[0;36m<module>\u001b[0;34m\u001b[0m\n\u001b[0;32m----> 1\u001b[0;31m \u001b[0;32mimport\u001b[0m \u001b[0mtorch\u001b[0m\u001b[0;34m\u001b[0m\u001b[0;34m\u001b[0m\u001b[0m\n\u001b[0m",
      "\u001b[0;31mModuleNotFoundError\u001b[0m: No module named 'torch'"
     ]
    }
   ],
   "source": []
  },
  {
   "cell_type": "code",
   "execution_count": null,
   "metadata": {},
   "outputs": [],
   "source": []
  }
 ],
 "metadata": {
  "interpreter": {
   "hash": "7439760cf7d2aa9049b62431f25e4b3ea37b06f2d15d50054f5ed677eb6950d7"
  },
  "kernelspec": {
   "display_name": "Python 3.10.0 64-bit ('3.10.0')",
   "language": "python",
   "name": "python3"
  },
  "language_info": {
   "codemirror_mode": {
    "name": "ipython",
    "version": 3
   },
   "file_extension": ".py",
   "mimetype": "text/x-python",
   "name": "python",
   "nbconvert_exporter": "python",
   "pygments_lexer": "ipython3",
   "version": "3.10.0"
  },
  "orig_nbformat": 4
 },
 "nbformat": 4,
 "nbformat_minor": 2
}
