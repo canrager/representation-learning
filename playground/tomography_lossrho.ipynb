{
  "cells": [
    {
      "cell_type": "code",
      "execution_count": 1,
      "metadata": {
        "id": "_Lsw8G9Vl99y"
      },
      "outputs": [],
      "source": [
        "## Imports\n",
        "import numpy as np\n",
        "import matplotlib.pyplot as plt\n",
        "import csv\n",
        "from datetime import datetime as time\n",
        "\n",
        "# Pytorch\n",
        "import torch\n",
        "import torch.nn as nn\n",
        "import torch.optim as optim\n",
        "from torch.utils.data import Dataset, DataLoader\n",
        "\n",
        "# Sklearn\n",
        "from sklearn.model_selection import train_test_split\n",
        "from sklearn.metrics import accuracy_score\n",
        "\n",
        "# tqdm for progress bar\n",
        "from tqdm import trange, tqdm\n",
        "\n",
        "# ipython config\n",
        "from IPython.core.interactiveshell import InteractiveShell\n",
        "InteractiveShell.ast_node_interactivity = \"all\""
      ]
    },
    {
      "cell_type": "markdown",
      "metadata": {
        "id": "3ODhBh7wl990"
      },
      "source": [
        "# Mixed State Generator"
      ]
    },
    {
      "cell_type": "markdown",
      "metadata": {
        "id": "iH4wSknpl991"
      },
      "source": [
        "## Partial Trace Method \n",
        "N=4, pure ---> N=2, mixed\n",
        "\n",
        "1. Create a **random pure state** vector for the combined system (N=4, linearcombination of random basis with random coeffs)\n",
        "2. Create a 4x4 **density matrix** from random state vector above\n",
        "3. Perform **partial trace** on any 2x2 base (resulting mixed 2x2 density matrix is independent of the chosen base traced over)"
      ]
    },
    {
      "cell_type": "code",
      "execution_count": 5,
      "metadata": {
        "colab": {
          "base_uri": "https://localhost:8080/"
        },
        "id": "4e1BlxPbl992",
        "outputId": "c20b87c0-af5b-4993-8c1f-440d5334f9f5"
      },
      "outputs": [
        {
          "data": {
            "text/plain": [
              "array([[0.2312729 , 0.17949038, 0.17336894, 0.17057954],\n",
              "       [0.17949038, 0.15112721, 0.1587128 , 0.17714388],\n",
              "       [0.17336894, 0.1587128 , 0.19109267, 0.25086955],\n",
              "       [0.17057954, 0.17714388, 0.25086955, 0.42650722]])"
            ]
          },
          "execution_count": 5,
          "metadata": {},
          "output_type": "execute_result"
        },
        {
          "data": {
            "text/plain": [
              "1.0"
            ]
          },
          "execution_count": 5,
          "metadata": {},
          "output_type": "execute_result"
        }
      ],
      "source": [
        "def create_invertible():\n",
        "    mat = np.random.uniform(size=(4,4))        # or complex??\n",
        "    if np.abs(np.linalg.det(mat)) < 1e-10:     # eps to avoid rounding errors\n",
        "        return create_invertible()\n",
        "    return mat\n",
        "\n",
        "def create_combined_pure():\n",
        "    basis = create_invertible()\n",
        "    coeffs = np.random.uniform(size=4)\n",
        "    coeffs = coeffs / np.sum(coeffs)\n",
        "\n",
        "    rho = np.zeros((4,4))\n",
        "    for i, vec in enumerate(basis):\n",
        "        vec = vec / np.linalg.norm(vec)\n",
        "        rho += coeffs[i] * np.outer( vec, vec)\n",
        "    return rho\n",
        "\n",
        "# Test\n",
        "A = create_combined_pure()\n",
        "A\n",
        "np.trace(A)\n",
        "\n"
      ]
    },
    {
      "cell_type": "code",
      "execution_count": 103,
      "metadata": {},
      "outputs": [
        {
          "data": {
            "text/plain": [
              "<matplotlib.image.AxesImage at 0x1677b0070>"
            ]
          },
          "execution_count": 103,
          "metadata": {},
          "output_type": "execute_result"
        },
        {
          "data": {
            "text/plain": [
              "<matplotlib.colorbar.Colorbar at 0x1677cecd0>"
            ]
          },
          "execution_count": 103,
          "metadata": {},
          "output_type": "execute_result"
        },
        {
          "data": {
            "image/png": "[encoded data removed]",
            "text/plain": [
              "<Figure size 432x288 with 2 Axes>"
            ]
          },
          "metadata": {
            "needs_background": "light"
          },
          "output_type": "display_data"
        }
      ],
      "source": [
        "plt.imshow(create_combined_pure(), vmin=0, vmax=1)\n",
        "plt.colorbar()"
      ]
    },
    {
      "cell_type": "markdown",
      "metadata": {},
      "source": [
        "Ist random.Uniform eine gute Wahl? die werte in der dichte matrix sind ziemlich gleichverteilt. Sollte ich komplexe Werte zulassen? "
      ]
    },
    {
      "cell_type": "code",
      "execution_count": 3,
      "metadata": {
        "colab": {
          "base_uri": "https://localhost:8080/"
        },
        "id": "VnhSx1sIl993",
        "outputId": "afa03dcc-597a-4192-bd5e-f7d4c7d1d60b"
      },
      "outputs": [
        {
          "data": {
            "text/plain": [
              "array([[0.47202139, 0.33829643],\n",
              "       [0.33829643, 0.52797861]])"
            ]
          },
          "execution_count": 3,
          "metadata": {},
          "output_type": "execute_result"
        }
      ],
      "source": [
        "def partial_trace(rho, basis=np.array([[1,0], [0,1]])):\n",
        "    #trace is performed on traced basis\n",
        "    reduced = np.zeros((2,2))\n",
        "    for i in range(2):\n",
        "        bra = np.kron(np.eye(2), basis[i])\n",
        "        reduced += bra.dot(rho.dot(bra.T))\n",
        "    return reduced\n",
        "\n",
        "# Test\n",
        "partial_trace(create_combined_pure(), basis=np.array([[1,0], [0,1]]))"
      ]
    },
    {
      "cell_type": "code",
      "execution_count": 104,
      "metadata": {
        "colab": {
          "base_uri": "https://localhost:8080/"
        },
        "id": "si6NSiidl993",
        "outputId": "07565c88-01bb-4507-c0bb-3943218638a9"
      },
      "outputs": [
        {
          "name": "stdout",
          "output_type": "stream",
          "text": [
            "combined system\n",
            " [[0.07719394 0.14148323 0.0936614  0.12528045]\n",
            " [0.14148323 0.47359673 0.3010945  0.31973527]\n",
            " [0.0936614  0.3010945  0.19699344 0.21230883]\n",
            " [0.12528045 0.31973527 0.21230883 0.25221589]]\n",
            "\n",
            "reduced system\n",
            " [[0.55079067 0.41339667]\n",
            " [0.41339667 0.44920933]]\n"
          ]
        },
        {
          "data": {
            "text/plain": [
              "0.8469530045814464"
            ]
          },
          "execution_count": 104,
          "metadata": {},
          "output_type": "execute_result"
        }
      ],
      "source": [
        "combined = create_combined_pure()\n",
        "print('combined system\\n', combined)\n",
        "\n",
        "reduced = partial_trace(combined, basis=np.array([[1,0], [0,1]]))\n",
        "print('\\nreduced system\\n', reduced)\n",
        "\n",
        "# Test Tr(rho^2)\n",
        "np.trace(reduced.dot(reduced))"
      ]
    },
    {
      "cell_type": "code",
      "execution_count": 109,
      "metadata": {
        "id": "CD52MgCNl994"
      },
      "outputs": [
        {
          "data": {
            "text/plain": [
              "1.0"
            ]
          },
          "execution_count": 109,
          "metadata": {},
          "output_type": "execute_result"
        }
      ],
      "source": [
        "# Define Wrapper function\n",
        "def random_mixed_1qubit():\n",
        "    return partial_trace(create_combined_pure())\n",
        "\n",
        "test_rho = random_mixed_1qubit()\n",
        "np.trace(test_rho)"
      ]
    },
    {
      "cell_type": "markdown",
      "metadata": {
        "id": "T1bMebTml997"
      },
      "source": [
        "# 1-Qubit Measurement"
      ]
    },
    {
      "cell_type": "markdown",
      "metadata": {
        "id": "p2MOKhUbl997"
      },
      "source": [
        "Habe ich mit bloch vektoren alle möglichen observablen abgedeckt?"
      ]
    },
    {
      "cell_type": "markdown",
      "metadata": {
        "id": "v0H1pMLml997"
      },
      "source": [
        "State Tomography: How many measurements are needed to correctly identify the state? 3^n for pure\n",
        "\n",
        "For 1-Qubit: 3 Measurements are needed\n",
        "--> Bloch vector\n",
        "\n",
        "Simple Approach: make much more measurements: 100\n",
        "\n",
        "1. generate Random vectors m to measure along\n",
        "2. measure along each m very often"
      ]
    },
    {
      "cell_type": "code",
      "execution_count": 139,
      "metadata": {
        "colab": {
          "base_uri": "https://localhost:8080/"
        },
        "id": "_3vYP1Dpl998",
        "outputId": "8e07305e-14dc-4aea-d79a-618ed86c64aa"
      },
      "outputs": [
        {
          "data": {
            "text/plain": [
              "array([[0.68268242, 0.2942936 ],\n",
              "       [0.2942936 , 0.31731758]])"
            ]
          },
          "execution_count": 139,
          "metadata": {},
          "output_type": "execute_result"
        },
        {
          "data": {
            "text/plain": [
              "1.0000000000000002"
            ]
          },
          "execution_count": 139,
          "metadata": {},
          "output_type": "execute_result"
        }
      ],
      "source": [
        "rho = random_mixed_1qubit()\n",
        "rho\n",
        "np.trace(rho)"
      ]
    },
    {
      "cell_type": "code",
      "execution_count": 141,
      "metadata": {
        "colab": {
          "base_uri": "https://localhost:8080/"
        },
        "id": "vwKaWwMml998",
        "outputId": "a44869a2-4d9c-41c1-cb8a-4c7d3fe0fe3d"
      },
      "outputs": [
        {
          "data": {
            "text/plain": [
              "1.0"
            ]
          },
          "execution_count": 141,
          "metadata": {},
          "output_type": "execute_result"
        }
      ],
      "source": [
        "def bloch2mat(vec):\n",
        "    assert vec.shape[0] == 3\n",
        "    s1 = np.matrix([[0,1],[1,0]])\n",
        "    s2 = np.matrix([[0,-1j],[1j,0]])\n",
        "    s3 = np.matrix([[1,0],[0,-1]])\n",
        "\n",
        "    r_sig = vec[0] * s1 + vec[1] * s2 + vec[2] * s3\n",
        "\n",
        "    return (np.eye(2) + r_sig) /2\n",
        "\n",
        "def random_pure_1qubit():\n",
        "    vec = np.random.uniform(size=3)\n",
        "    vec = vec / np.sum(vec)\n",
        "    return np.real(bloch2mat(vec))\n",
        "\n",
        "np.trace(random_pure_1qubit())\n"
      ]
    },
    {
      "cell_type": "code",
      "execution_count": 193,
      "metadata": {
        "colab": {
          "base_uri": "https://localhost:8080/"
        },
        "id": "K0hNCMPal998",
        "outputId": "d6e48cd9-b865-42a1-e8bc-67b76a482889"
      },
      "outputs": [
        {
          "data": {
            "text/plain": [
              "0.5492475683124245"
            ]
          },
          "execution_count": 193,
          "metadata": {},
          "output_type": "execute_result"
        },
        {
          "data": {
            "text/plain": [
              "0.06559950427525897"
            ]
          },
          "execution_count": 193,
          "metadata": {},
          "output_type": "execute_result"
        }
      ],
      "source": [
        "# Generate random measurements \n",
        "m_amt = 100\n",
        "\n",
        "def random_measurement(rho, m_amt=m_amt):\n",
        "  observables = np.array([random_pure_1qubit() for _ in range(m_amt)])\n",
        "  measurements = np.array([np.trace(observables[i].dot(rho)) for i in range(m_amt)])\n",
        "  return measurements.astype('float')\n",
        "\n",
        "\n",
        "measurements = random_measurement(random_mixed_1qubit())\n",
        "measurements.mean()\n",
        "measurements.std()"
      ]
    },
    {
      "cell_type": "code",
      "execution_count": 194,
      "metadata": {},
      "outputs": [],
      "source": [
        "meas = random_measurement(random_mixed_1qubit(), m_amt=100000)"
      ]
    },
    {
      "cell_type": "code",
      "execution_count": 196,
      "metadata": {},
      "outputs": [
        {
          "data": {
            "image/png": "[encoded data removed]",
            "text/plain": [
              "<Figure size 432x288 with 1 Axes>"
            ]
          },
          "metadata": {
            "needs_background": "light"
          },
          "output_type": "display_data"
        }
      ],
      "source": [
        "a=plt.hist(meas, bins=20)\n",
        "a=plt.xlim(0,1)"
      ]
    },
    {
      "cell_type": "markdown",
      "metadata": {
        "id": "NFjwMTXUpQx5"
      },
      "source": [
        "# Tomograpy FFN"
      ]
    },
    {
      "cell_type": "markdown",
      "metadata": {
        "id": "UoBkP4jbpaKa"
      },
      "source": [
        "### Create Dataset"
      ]
    },
    {
      "cell_type": "code",
      "execution_count": 197,
      "metadata": {
        "id": "96f4E_ZPl999"
      },
      "outputs": [],
      "source": [
        "# n_samples = 10000\n",
        "# PATH = f\"data/n{n_samples}_{time.now()}.csv\"\n",
        "\n",
        "# with open(PATH, 'w') as f:\n",
        "#   writer = csv.writer(f)\n",
        "#   for _ in trange(n_samples):\n",
        "#     rho = random_mixed_1qubit()\n",
        "#     a=writer.writerow(rho.reshape(4))\n",
        "#     a=writer.writerow(random_measurement(rho))"
      ]
    },
    {
      "cell_type": "markdown",
      "metadata": {},
      "source": [
        "### Open dataset"
      ]
    },
    {
      "cell_type": "code",
      "execution_count": 198,
      "metadata": {
        "colab": {
          "base_uri": "https://localhost:8080/"
        },
        "id": "jdqdRM8o55c6",
        "outputId": "38c86c18-b8a2-480f-c15d-e34a57434d4b"
      },
      "outputs": [
        {
          "name": "stderr",
          "output_type": "stream",
          "text": [
            "20000it [00:04, 4242.47it/s]\n"
          ]
        },
        {
          "data": {
            "text/plain": [
              "(10000, 100)"
            ]
          },
          "execution_count": 198,
          "metadata": {},
          "output_type": "execute_result"
        },
        {
          "data": {
            "text/plain": [
              "(10000, 4)"
            ]
          },
          "execution_count": 198,
          "metadata": {},
          "output_type": "execute_result"
        },
        {
          "data": {
            "text/plain": [
              "7000"
            ]
          },
          "execution_count": 198,
          "metadata": {},
          "output_type": "execute_result"
        },
        {
          "data": {
            "text/plain": [
              "1800"
            ]
          },
          "execution_count": 198,
          "metadata": {},
          "output_type": "execute_result"
        },
        {
          "data": {
            "text/plain": [
              "1200"
            ]
          },
          "execution_count": 198,
          "metadata": {},
          "output_type": "execute_result"
        }
      ],
      "source": [
        "filename = 'data/n10000_2022-04-09 20:38:19.674375.csv'\n",
        "\n",
        "y = np.empty((0,4))\n",
        "X = np.empty((0,m_amt))\n",
        "\n",
        "with open(filename, 'r') as f:\n",
        "  reader = csv.reader(f)\n",
        "  i=0\n",
        "  for line in tqdm(reader):\n",
        "    if i % 2 ==0:\n",
        "      y = np.vstack((y, np.array(np.array(line).astype('float'))))\n",
        "    else:\n",
        "      X = np.vstack((X, np.array(np.array(line).astype('float'))))\n",
        "    i+=1\n",
        "\n",
        "\n",
        "X_train, X_left, y_train, y_left = train_test_split(\n",
        "    X, y, test_size=0.3, random_state=42)\n",
        "\n",
        "X_valid, X_treasure, y_valid, y_treasure = train_test_split(\n",
        "    X_left, y_left, test_size=0.4, random_state=42)\n",
        "\n",
        "X.shape\n",
        "y.shape\n",
        "X_train.shape[0]\n",
        "X_valid.shape[0]\n",
        "X_treasure.shape[0]"
      ]
    },
    {
      "cell_type": "code",
      "execution_count": 199,
      "metadata": {
        "id": "d6qaqKYysM99"
      },
      "outputs": [],
      "source": [
        "class CustomDataset(Dataset):\n",
        "\n",
        "  def __init__(self, X, Y):\n",
        "        self.X = torch.from_numpy(X).float()\n",
        "        self.Y = torch.from_numpy(Y).float()\n",
        "\n",
        "  def __len__(self):\n",
        "        return len(self.X)\n",
        "\n",
        "  def __getitem__(self, index):\n",
        "        # Select sample\n",
        "        X = self.X[index]\n",
        "\n",
        "        # Load data and get label\n",
        "        x = self.X[index]\n",
        "        y = self.Y[index]\n",
        "\n",
        "        return x, y"
      ]
    },
    {
      "cell_type": "code",
      "execution_count": 200,
      "metadata": {
        "id": "lhgNMxXFw-EP"
      },
      "outputs": [],
      "source": [
        "tomography_train_dataset = CustomDataset(X_train, y_train)\n",
        "tomography_valid_dataset = CustomDataset(X_valid, y_valid)"
      ]
    },
    {
      "cell_type": "code",
      "execution_count": 201,
      "metadata": {
        "id": "4GQSr4g0xUBP"
      },
      "outputs": [],
      "source": [
        "# Define the batch sizes\n",
        "TRAIN_BATCH_SIZE = 64\n",
        "TEST_BATCH_SIZE = 64\n",
        "\n",
        "# Create data loaders from the datasets for the current task\n",
        "# Setting drop_last=True does not consider the last batch in which there are less than BATCH_SIZE examples\n",
        "tomography_train_dataloader = DataLoader(tomography_train_dataset, batch_size=TRAIN_BATCH_SIZE, shuffle=True, drop_last=True)\n",
        "tomography_vaild_dataloader = DataLoader(tomography_valid_dataset, batch_size=TEST_BATCH_SIZE, shuffle=True, drop_last=True)"
      ]
    },
    {
      "cell_type": "markdown",
      "metadata": {
        "id": "f49OO7AUx5XL"
      },
      "source": [
        "Feed Forward Neural Network"
      ]
    },
    {
      "cell_type": "code",
      "execution_count": 278,
      "metadata": {
        "colab": {
          "base_uri": "https://localhost:8080/"
        },
        "id": "xIEOe6Bgxn-S",
        "outputId": "0d5dd124-897d-4d37-ab04-1b84b253f988"
      },
      "outputs": [],
      "source": [
        "class FeedForwardNet(nn.Module):\n",
        "\n",
        "  def __init__(self):\n",
        "    super().__init__()\n",
        "\n",
        "    self.layers = nn.Sequential(\n",
        "    nn.Linear(100, 256),\n",
        "    nn.ReLU(),\n",
        "    nn.Linear(256,128),\n",
        "    nn.ReLU(),\n",
        "    nn.Linear(128,32),\n",
        "    nn.ReLU(),\n",
        "    nn.Linear(32,4),\n",
        "    )\n",
        "\n",
        "  def forward(self, x):\n",
        "    return self.layers(x)"
      ]
    },
    {
      "cell_type": "code",
      "execution_count": 279,
      "metadata": {
        "id": "1HGKyh1X1kpx"
      },
      "outputs": [],
      "source": [
        "# Function for training the network\n",
        "def train(net, train_epochs, train_dataloader, optimizer, criterion):\n",
        "\n",
        "    losses = np.array([])\n",
        "    train_accuracies = np.array([])\n",
        "\n",
        "    for epoch in trange(train_epochs):\n",
        "        net.train()\n",
        "        for batch_idx, samples in enumerate(train_dataloader):\n",
        "            data, target = samples[0].to(device), samples[1].to(device)\n",
        "            # Optimize parameters\n",
        "            net.zero_grad()\n",
        "            outputs = net(data)\n",
        "            loss = criterion(outputs, target)\n",
        "            loss.backward()\n",
        "            optimizer.step()\n",
        "            losses = np.append(losses, loss.clone().detach().cpu().numpy())\n",
        "\n",
        "            # # Check training accuracy\n",
        "            # binary_predictions = (outputs>0.5).float()\n",
        "            # accuracy = (binary_predictions == target).float().mean()\n",
        "            # train_accuracies.append(accuracy)\n",
        "\n",
        "    return losses #, train_accuracies"
      ]
    },
    {
      "cell_type": "code",
      "execution_count": 302,
      "metadata": {
        "colab": {
          "base_uri": "https://localhost:8080/"
        },
        "id": "B1SSl2G3g_KM",
        "outputId": "d324c6c7-ad11-40a1-b981-7a4b025754a6"
      },
      "outputs": [
        {
          "name": "stdout",
          "output_type": "stream",
          "text": [
            "cpu\n"
          ]
        },
        {
          "name": "stderr",
          "output_type": "stream",
          "text": [
            "100%|██████████| 25/25 [00:02<00:00, 12.18it/s]\n"
          ]
        }
      ],
      "source": [
        "# Check if the GPU is available\n",
        "device = torch.device(\"cuda:0\" if torch.cuda.is_available() else \"cpu\")\n",
        "print(device)\n",
        "\n",
        "# Create the network on the CPU/GPU\n",
        "net = FeedForwardNet().to(device)\n",
        "\n",
        "# Loss function and optimizer\n",
        "criterion = nn.L1Loss()\n",
        "optimizer = optim.SGD(net.parameters(), lr=0.001)\n",
        "\n",
        "losses = train(net, 25, tomography_train_dataloader, optimizer, criterion)"
      ]
    },
    {
      "cell_type": "code",
      "execution_count": 303,
      "metadata": {
        "colab": {
          "base_uri": "https://localhost:8080/",
          "height": 329
        },
        "id": "U4U4VN6Oi8fr",
        "outputId": "47dae4e8-5173-4bc8-a061-83c4fd1e6eea"
      },
      "outputs": [
        {
          "data": {
            "text/plain": [
              "<Figure size 720x288 with 0 Axes>"
            ]
          },
          "execution_count": 303,
          "metadata": {},
          "output_type": "execute_result"
        },
        {
          "data": {
            "text/plain": [
              "[<matplotlib.lines.Line2D at 0x290a00a60>]"
            ]
          },
          "execution_count": 303,
          "metadata": {},
          "output_type": "execute_result"
        },
        {
          "data": {
            "text/plain": [
              "Text(0.5, 0, 'Iterations')"
            ]
          },
          "execution_count": 303,
          "metadata": {},
          "output_type": "execute_result"
        },
        {
          "data": {
            "text/plain": [
              "Text(0, 0.5, 'Loss')"
            ]
          },
          "execution_count": 303,
          "metadata": {},
          "output_type": "execute_result"
        },
        {
          "data": {
            "text/plain": [
              "<matplotlib.legend.Legend at 0x291c53eb0>"
            ]
          },
          "execution_count": 303,
          "metadata": {},
          "output_type": "execute_result"
        },
        {
          "data": {
            "text/plain": [
              "Text(0.5, 1.0, 'Tomography Dataset Loss over Iterations')"
            ]
          },
          "execution_count": 303,
          "metadata": {},
          "output_type": "execute_result"
        },
        {
          "data": {
            "image/png": "[encoded data removed]",
            "text/plain": [
              "<Figure size 720x288 with 1 Axes>"
            ]
          },
          "metadata": {
            "needs_background": "light"
          },
          "output_type": "display_data"
        }
      ],
      "source": [
        "plt.figure(figsize=(10,4))\n",
        "plt.plot(losses, lw=2, label='Training Loss')\n",
        "plt.xlabel('Iterations')\n",
        "plt.ylabel('Loss')\n",
        "plt.legend()\n",
        "plt.title('Tomography Dataset Loss over Iterations')"
      ]
    },
    {
      "cell_type": "markdown",
      "metadata": {
        "id": "bP8nG_6ZHRzh"
      },
      "source": [
        "# Inference"
      ]
    },
    {
      "cell_type": "code",
      "execution_count": 325,
      "metadata": {
        "colab": {
          "base_uri": "https://localhost:8080/"
        },
        "id": "oD21pVaMGr5D",
        "outputId": "2e08307e-17a6-4f22-973d-6f8eaeb221dd"
      },
      "outputs": [
        {
          "name": "stdout",
          "output_type": "stream",
          "text": [
            "[0.18399672 0.23333696 0.23333696 0.81600328]\n",
            "[0.41536146 0.32018188 0.34202337 0.42282188]\n"
          ]
        },
        {
          "data": {
            "image/png": "[encoded data removed]",
            "text/plain": [
              "<Figure size 720x288 with 3 Axes>"
            ]
          },
          "metadata": {
            "needs_background": "light"
          },
          "output_type": "display_data"
        }
      ],
      "source": [
        "rho_orig = random_mixed_1qubit()\n",
        "measurement = torch.Tensor(random_measurement(rho_orig))\n",
        "rho_pred = net.forward(measurement.to(device)).detach().cpu().numpy().reshape(2,2)\n",
        "\n",
        "print(rho_orig.reshape(4))\n",
        "print(rho_pred.reshape(4))\n",
        "fig, axs = plt.subplots(1,2, figsize=(10,4))\n",
        "a=axs[0].imshow(rho_orig, vmin=0, vmax=1)\n",
        "a=axs[0].set_title('$\\\\rho$ original')\n",
        "a=axs[1].set_title('$\\\\rho$ prediction')\n",
        "a=axs[1].imshow(rho_pred, vmin=0, vmax=1)\n",
        "a=fig.colorbar(a)"
      ]
    },
    {
      "cell_type": "markdown",
      "metadata": {},
      "source": [
        "Lernt nur den Durchschnitt!"
      ]
    },
    {
      "cell_type": "markdown",
      "metadata": {},
      "source": [
        "Verbesserungsansätze: \n",
        "- netzwerk vergrößern\n",
        "  - nichts gebracht\n",
        "- andere loss function mit mehr gewicht für outliers\n",
        "  - bereits MSE verwendet, was mehr weight auf outliers gibt as MAE=L1, konvergiert bei 0.02 training loss\n",
        "  - MAE bringt nichts, resultiert in 0.7 training loss\n",
        "- berücksichtigen, dass information auf offdiagonaler redundant ist\n",
        "  - siehe neues notebook error von bloch vektoren"
      ]
    },
    {
      "cell_type": "markdown",
      "metadata": {},
      "source": [
        "Briegel fragen was genau es bringt im AE nicht über die dichtematrix zu gehen sondern direkt auf kompakteste repräsentation zu lernen."
      ]
    },
    {
      "cell_type": "code",
      "execution_count": null,
      "metadata": {},
      "outputs": [],
      "source": []
    }
  ],
  "metadata": {
    "accelerator": "GPU",
    "colab": {
      "name": "density_gen.ipynb",
      "provenance": []
    },
    "interpreter": {
      "hash": "7439760cf7d2aa9049b62431f25e4b3ea37b06f2d15d50054f5ed677eb6950d7"
    },
    "kernelspec": {
      "display_name": "Python 3.10.0 64-bit ('3.10.0')",
      "language": "python",
      "name": "python3"
    },
    "language_info": {
      "codemirror_mode": {
        "name": "ipython",
        "version": 3
      },
      "file_extension": ".py",
      "mimetype": "text/x-python",
      "name": "python",
      "nbconvert_exporter": "python",
      "pygments_lexer": "ipython3",
      "version": "3.9.11"
    },
    "orig_nbformat": 4
  },
  "nbformat": 4,
  "nbformat_minor": 0
}
